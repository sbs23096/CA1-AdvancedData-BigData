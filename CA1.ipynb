{
 "cells": [
  {
   "cell_type": "markdown",
   "id": "b1ad6369",
   "metadata": {},
   "source": [
    "#### Integrated CA1 Sem 2 MSc in Data Analytics\n",
    "#### Importing required libraries\n",
    "#### Dataset Source: https://www.kaggle.com/datasets/hassaandaoud/part-00000-resturant-reviews\n",
    "#### Github: https://github.com/sbs23096/CA1-AdvancedData-BigData.git\n"
   ]
  },
  {
   "cell_type": "code",
   "execution_count": null,
   "id": "70784975",
   "metadata": {},
   "outputs": [],
   "source": []
  },
  {
   "cell_type": "code",
   "execution_count": 207,
   "id": "0f9f1c0e",
   "metadata": {},
   "outputs": [],
   "source": [
    "import pandas as pd\n",
    "import numpy as np\n",
    "import matplotlib.pyplot as plt\n",
    "import seaborn as sns\n",
    "%matplotlib inline\n",
    "import warnings\n",
    "warnings.filterwarnings('ignore') # We can suppress the warnings"
   ]
  },
  {
   "cell_type": "markdown",
   "id": "130372c4",
   "metadata": {},
   "source": [
    "#### Restaurant Review | Sentiment Analysis (NN)"
   ]
  },
  {
   "cell_type": "code",
   "execution_count": null,
   "id": "6e9a6b53",
   "metadata": {},
   "outputs": [],
   "source": []
  },
  {
   "cell_type": "code",
   "execution_count": null,
   "id": "b02f821b",
   "metadata": {},
   "outputs": [],
   "source": []
  },
  {
   "cell_type": "markdown",
   "id": "98a4243f",
   "metadata": {},
   "source": [
    "### Importing & Inspecting Data"
   ]
  },
  {
   "cell_type": "code",
   "execution_count": 208,
   "id": "834d7407",
   "metadata": {
    "scrolled": false
   },
   "outputs": [
    {
     "data": {
      "text/html": [
       "<div>\n",
       "<style scoped>\n",
       "    .dataframe tbody tr th:only-of-type {\n",
       "        vertical-align: middle;\n",
       "    }\n",
       "\n",
       "    .dataframe tbody tr th {\n",
       "        vertical-align: top;\n",
       "    }\n",
       "\n",
       "    .dataframe thead th {\n",
       "        text-align: right;\n",
       "    }\n",
       "</style>\n",
       "<table border=\"1\" class=\"dataframe\">\n",
       "  <thead>\n",
       "    <tr style=\"text-align: right;\">\n",
       "      <th></th>\n",
       "      <th>Review</th>\n",
       "      <th>Liked</th>\n",
       "    </tr>\n",
       "  </thead>\n",
       "  <tbody>\n",
       "    <tr>\n",
       "      <th>0</th>\n",
       "      <td>Wow... Loved this place.</td>\n",
       "      <td>1</td>\n",
       "    </tr>\n",
       "    <tr>\n",
       "      <th>1</th>\n",
       "      <td>Crust is not good.</td>\n",
       "      <td>0</td>\n",
       "    </tr>\n",
       "    <tr>\n",
       "      <th>2</th>\n",
       "      <td>Not tasty and the texture was just nasty.</td>\n",
       "      <td>0</td>\n",
       "    </tr>\n",
       "    <tr>\n",
       "      <th>3</th>\n",
       "      <td>Stopped by during the late May bank holiday of...</td>\n",
       "      <td>1</td>\n",
       "    </tr>\n",
       "    <tr>\n",
       "      <th>4</th>\n",
       "      <td>The selection on the menu was great and so wer...</td>\n",
       "      <td>1</td>\n",
       "    </tr>\n",
       "    <tr>\n",
       "      <th>...</th>\n",
       "      <td>...</td>\n",
       "      <td>...</td>\n",
       "    </tr>\n",
       "    <tr>\n",
       "      <th>995</th>\n",
       "      <td>I think food should have flavor and texture an...</td>\n",
       "      <td>0</td>\n",
       "    </tr>\n",
       "    <tr>\n",
       "      <th>996</th>\n",
       "      <td>Appetite instantly gone.</td>\n",
       "      <td>0</td>\n",
       "    </tr>\n",
       "    <tr>\n",
       "      <th>997</th>\n",
       "      <td>Overall I was not impressed and would not go b...</td>\n",
       "      <td>0</td>\n",
       "    </tr>\n",
       "    <tr>\n",
       "      <th>998</th>\n",
       "      <td>The whole experience was underwhelming, and I ...</td>\n",
       "      <td>0</td>\n",
       "    </tr>\n",
       "    <tr>\n",
       "      <th>999</th>\n",
       "      <td>Then, as if I hadn't wasted enough of my life ...</td>\n",
       "      <td>0</td>\n",
       "    </tr>\n",
       "  </tbody>\n",
       "</table>\n",
       "<p>1000 rows × 2 columns</p>\n",
       "</div>"
      ],
      "text/plain": [
       "                                                Review  Liked\n",
       "0                             Wow... Loved this place.      1\n",
       "1                                   Crust is not good.      0\n",
       "2            Not tasty and the texture was just nasty.      0\n",
       "3    Stopped by during the late May bank holiday of...      1\n",
       "4    The selection on the menu was great and so wer...      1\n",
       "..                                                 ...    ...\n",
       "995  I think food should have flavor and texture an...      0\n",
       "996                           Appetite instantly gone.      0\n",
       "997  Overall I was not impressed and would not go b...      0\n",
       "998  The whole experience was underwhelming, and I ...      0\n",
       "999  Then, as if I hadn't wasted enough of my life ...      0\n",
       "\n",
       "[1000 rows x 2 columns]"
      ]
     },
     "execution_count": 208,
     "metadata": {},
     "output_type": "execute_result"
    }
   ],
   "source": [
    "df = pd.read_csv('part-00000-Restaurant_Reviews.tsv', sep='\\t')\n",
    "df"
   ]
  },
  {
   "cell_type": "code",
   "execution_count": 209,
   "id": "bff82982",
   "metadata": {},
   "outputs": [
    {
     "data": {
      "text/html": [
       "<div>\n",
       "<style scoped>\n",
       "    .dataframe tbody tr th:only-of-type {\n",
       "        vertical-align: middle;\n",
       "    }\n",
       "\n",
       "    .dataframe tbody tr th {\n",
       "        vertical-align: top;\n",
       "    }\n",
       "\n",
       "    .dataframe thead th {\n",
       "        text-align: right;\n",
       "    }\n",
       "</style>\n",
       "<table border=\"1\" class=\"dataframe\">\n",
       "  <thead>\n",
       "    <tr style=\"text-align: right;\">\n",
       "      <th></th>\n",
       "      <th>Review</th>\n",
       "      <th>Liked</th>\n",
       "    </tr>\n",
       "  </thead>\n",
       "  <tbody>\n",
       "    <tr>\n",
       "      <th>959</th>\n",
       "      <td>The only reason to eat here would be to fill u...</td>\n",
       "      <td>0</td>\n",
       "    </tr>\n",
       "    <tr>\n",
       "      <th>771</th>\n",
       "      <td>Great time - family dinner on a Sunday night.</td>\n",
       "      <td>1</td>\n",
       "    </tr>\n",
       "  </tbody>\n",
       "</table>\n",
       "</div>"
      ],
      "text/plain": [
       "                                                Review  Liked\n",
       "959  The only reason to eat here would be to fill u...      0\n",
       "771      Great time - family dinner on a Sunday night.      1"
      ]
     },
     "execution_count": 209,
     "metadata": {},
     "output_type": "execute_result"
    }
   ],
   "source": [
    "df.sample(2)"
   ]
  },
  {
   "cell_type": "code",
   "execution_count": 210,
   "id": "29449916",
   "metadata": {},
   "outputs": [
    {
     "name": "stdout",
     "output_type": "stream",
     "text": [
      "<class 'pandas.core.frame.DataFrame'>\n",
      "RangeIndex: 1000 entries, 0 to 999\n",
      "Data columns (total 2 columns):\n",
      " #   Column  Non-Null Count  Dtype \n",
      "---  ------  --------------  ----- \n",
      " 0   Review  1000 non-null   object\n",
      " 1   Liked   1000 non-null   int64 \n",
      "dtypes: int64(1), object(1)\n",
      "memory usage: 15.8+ KB\n"
     ]
    }
   ],
   "source": [
    "df.info()"
   ]
  },
  {
   "cell_type": "code",
   "execution_count": null,
   "id": "28bae725",
   "metadata": {},
   "outputs": [],
   "source": []
  },
  {
   "cell_type": "code",
   "execution_count": null,
   "id": "3a8829aa",
   "metadata": {},
   "outputs": [],
   "source": []
  },
  {
   "cell_type": "markdown",
   "id": "439cbdab",
   "metadata": {},
   "source": [
    "## Data Explore"
   ]
  },
  {
   "cell_type": "code",
   "execution_count": 287,
   "id": "56e854a0",
   "metadata": {},
   "outputs": [],
   "source": []
  },
  {
   "cell_type": "code",
   "execution_count": 211,
   "id": "5ea344ab",
   "metadata": {},
   "outputs": [
    {
     "data": {
      "text/plain": [
       "1    500\n",
       "0    500\n",
       "Name: Liked, dtype: int64"
      ]
     },
     "execution_count": 211,
     "metadata": {},
     "output_type": "execute_result"
    }
   ],
   "source": [
    "#count the like and dislikes reviews\n",
    "df['Liked'].value_counts()"
   ]
  },
  {
   "cell_type": "code",
   "execution_count": 212,
   "id": "4882b2da",
   "metadata": {},
   "outputs": [
    {
     "data": {
      "text/plain": [
       "<AxesSubplot:xlabel='Liked', ylabel='count'>"
      ]
     },
     "execution_count": 212,
     "metadata": {},
     "output_type": "execute_result"
    },
    {
     "data": {
      "image/png": "[encoded data removed]",
      "text/plain": [
       "<Figure size 432x288 with 1 Axes>"
      ]
     },
     "metadata": {
      "needs_background": "light"
     },
     "output_type": "display_data"
    }
   ],
   "source": [
    "#showing the liked and disliked on plot\n",
    "sns.countplot(x=df['Liked'])"
   ]
  },
  {
   "cell_type": "code",
   "execution_count": 213,
   "id": "a97a14d9",
   "metadata": {},
   "outputs": [],
   "source": [
    "#count the length of each review to know how much the Customer are interested in Resturant \n",
    "df['Review Letter Count']= df['Review'].apply(len)"
   ]
  },
  {
   "cell_type": "code",
   "execution_count": 214,
   "id": "fca50dbc",
   "metadata": {},
   "outputs": [
    {
     "data": {
      "text/plain": [
       "0       24\n",
       "1       18\n",
       "2       41\n",
       "3       87\n",
       "4       59\n",
       "      ... \n",
       "995     66\n",
       "996     24\n",
       "997     50\n",
       "998     91\n",
       "999    134\n",
       "Name: Review Letter Count, Length: 1000, dtype: int64"
      ]
     },
     "execution_count": 214,
     "metadata": {},
     "output_type": "execute_result"
    }
   ],
   "source": [
    "df['Review Letter Count']"
   ]
  },
  {
   "cell_type": "code",
   "execution_count": 215,
   "id": "18c0c35d",
   "metadata": {},
   "outputs": [
    {
     "data": {
      "text/plain": [
       "'The problem I have is that they charge $11.99 for a sandwich that is no bigger than a Subway sub (which offers better and more amount of vegetables).'"
      ]
     },
     "execution_count": 215,
     "metadata": {},
     "output_type": "execute_result"
    }
   ],
   "source": [
    "#print the longest review\n",
    "df.iloc[df['Review Letter Count'].idxmax()][0]"
   ]
  },
  {
   "cell_type": "code",
   "execution_count": 216,
   "id": "e153e9fe",
   "metadata": {},
   "outputs": [
    {
     "data": {
      "text/html": [
       "<div>\n",
       "<style scoped>\n",
       "    .dataframe tbody tr th:only-of-type {\n",
       "        vertical-align: middle;\n",
       "    }\n",
       "\n",
       "    .dataframe tbody tr th {\n",
       "        vertical-align: top;\n",
       "    }\n",
       "\n",
       "    .dataframe thead th {\n",
       "        text-align: right;\n",
       "    }\n",
       "</style>\n",
       "<table border=\"1\" class=\"dataframe\">\n",
       "  <thead>\n",
       "    <tr style=\"text-align: right;\">\n",
       "      <th></th>\n",
       "      <th>Review</th>\n",
       "      <th>Liked</th>\n",
       "      <th>Review Letter Count</th>\n",
       "    </tr>\n",
       "  </thead>\n",
       "  <tbody>\n",
       "    <tr>\n",
       "      <th>0</th>\n",
       "      <td>Wow... Loved this place.</td>\n",
       "      <td>1</td>\n",
       "      <td>24</td>\n",
       "    </tr>\n",
       "    <tr>\n",
       "      <th>1</th>\n",
       "      <td>Crust is not good.</td>\n",
       "      <td>0</td>\n",
       "      <td>18</td>\n",
       "    </tr>\n",
       "    <tr>\n",
       "      <th>2</th>\n",
       "      <td>Not tasty and the texture was just nasty.</td>\n",
       "      <td>0</td>\n",
       "      <td>41</td>\n",
       "    </tr>\n",
       "    <tr>\n",
       "      <th>3</th>\n",
       "      <td>Stopped by during the late May bank holiday of...</td>\n",
       "      <td>1</td>\n",
       "      <td>87</td>\n",
       "    </tr>\n",
       "    <tr>\n",
       "      <th>4</th>\n",
       "      <td>The selection on the menu was great and so wer...</td>\n",
       "      <td>1</td>\n",
       "      <td>59</td>\n",
       "    </tr>\n",
       "    <tr>\n",
       "      <th>...</th>\n",
       "      <td>...</td>\n",
       "      <td>...</td>\n",
       "      <td>...</td>\n",
       "    </tr>\n",
       "    <tr>\n",
       "      <th>995</th>\n",
       "      <td>I think food should have flavor and texture an...</td>\n",
       "      <td>0</td>\n",
       "      <td>66</td>\n",
       "    </tr>\n",
       "    <tr>\n",
       "      <th>996</th>\n",
       "      <td>Appetite instantly gone.</td>\n",
       "      <td>0</td>\n",
       "      <td>24</td>\n",
       "    </tr>\n",
       "    <tr>\n",
       "      <th>997</th>\n",
       "      <td>Overall I was not impressed and would not go b...</td>\n",
       "      <td>0</td>\n",
       "      <td>50</td>\n",
       "    </tr>\n",
       "    <tr>\n",
       "      <th>998</th>\n",
       "      <td>The whole experience was underwhelming, and I ...</td>\n",
       "      <td>0</td>\n",
       "      <td>91</td>\n",
       "    </tr>\n",
       "    <tr>\n",
       "      <th>999</th>\n",
       "      <td>Then, as if I hadn't wasted enough of my life ...</td>\n",
       "      <td>0</td>\n",
       "      <td>134</td>\n",
       "    </tr>\n",
       "  </tbody>\n",
       "</table>\n",
       "<p>1000 rows × 3 columns</p>\n",
       "</div>"
      ],
      "text/plain": [
       "                                                Review  Liked  \\\n",
       "0                             Wow... Loved this place.      1   \n",
       "1                                   Crust is not good.      0   \n",
       "2            Not tasty and the texture was just nasty.      0   \n",
       "3    Stopped by during the late May bank holiday of...      1   \n",
       "4    The selection on the menu was great and so wer...      1   \n",
       "..                                                 ...    ...   \n",
       "995  I think food should have flavor and texture an...      0   \n",
       "996                           Appetite instantly gone.      0   \n",
       "997  Overall I was not impressed and would not go b...      0   \n",
       "998  The whole experience was underwhelming, and I ...      0   \n",
       "999  Then, as if I hadn't wasted enough of my life ...      0   \n",
       "\n",
       "     Review Letter Count  \n",
       "0                     24  \n",
       "1                     18  \n",
       "2                     41  \n",
       "3                     87  \n",
       "4                     59  \n",
       "..                   ...  \n",
       "995                   66  \n",
       "996                   24  \n",
       "997                   50  \n",
       "998                   91  \n",
       "999                  134  \n",
       "\n",
       "[1000 rows x 3 columns]"
      ]
     },
     "execution_count": 216,
     "metadata": {},
     "output_type": "execute_result"
    }
   ],
   "source": [
    "df"
   ]
  },
  {
   "cell_type": "code",
   "execution_count": 217,
   "id": "f68dec7d",
   "metadata": {},
   "outputs": [
    {
     "data": {
      "text/plain": [
       "Review                 object\n",
       "Liked                   int64\n",
       "Review Letter Count     int64\n",
       "dtype: object"
      ]
     },
     "execution_count": 217,
     "metadata": {},
     "output_type": "execute_result"
    }
   ],
   "source": [
    "df.dtypes"
   ]
  },
  {
   "cell_type": "markdown",
   "id": "fbbcca7d",
   "metadata": {},
   "source": [
    "### Preprocessing Data (NTK Text Data Cleaning)"
   ]
  },
  {
   "cell_type": "code",
   "execution_count": 218,
   "id": "5dbe8996",
   "metadata": {},
   "outputs": [
    {
     "data": {
      "text/plain": [
       "'Wow... Loved this place.'"
      ]
     },
     "execution_count": 218,
     "metadata": {},
     "output_type": "execute_result"
    }
   ],
   "source": [
    "df['Review'][0]"
   ]
  },
  {
   "cell_type": "code",
   "execution_count": 219,
   "id": "bf77e0cf",
   "metadata": {},
   "outputs": [],
   "source": [
    "import nltk"
   ]
  },
  {
   "cell_type": "code",
   "execution_count": 220,
   "id": "74b4b77f",
   "metadata": {},
   "outputs": [],
   "source": [
    "from nltk.corpus import stopwords"
   ]
  },
  {
   "cell_type": "code",
   "execution_count": 221,
   "id": "6dcaad1b",
   "metadata": {},
   "outputs": [
    {
     "name": "stderr",
     "output_type": "stream",
     "text": [
      "[nltk_data] Downloading package stopwords to /Users/daoud/nltk_data...\n",
      "[nltk_data]   Package stopwords is already up-to-date!\n"
     ]
    },
    {
     "data": {
      "text/plain": [
       "True"
      ]
     },
     "execution_count": 221,
     "metadata": {},
     "output_type": "execute_result"
    }
   ],
   "source": [
    "nltk.download('stopwords')"
   ]
  },
  {
   "cell_type": "code",
   "execution_count": 222,
   "id": "7ab92527",
   "metadata": {},
   "outputs": [
    {
     "name": "stdout",
     "output_type": "stream",
     "text": [
      "['i', 'me', 'my', 'myself', 'we', 'our', 'ours', 'ourselves', 'you', \"you're\", \"you've\", \"you'll\", \"you'd\", 'your', 'yours', 'yourself', 'yourselves', 'he', 'him', 'his', 'himself', 'she', \"she's\", 'her', 'hers', 'herself', 'it', \"it's\", 'its', 'itself', 'they', 'them', 'their', 'theirs', 'themselves', 'what', 'which', 'who', 'whom', 'this', 'that', \"that'll\", 'these', 'those', 'am', 'is', 'are', 'was', 'were', 'be', 'been', 'being', 'have', 'has', 'had', 'having', 'do', 'does', 'did', 'doing', 'a', 'an', 'the', 'and', 'but', 'if', 'or', 'because', 'as', 'until', 'while', 'of', 'at', 'by', 'for', 'with', 'about', 'against', 'between', 'into', 'through', 'during', 'before', 'after', 'above', 'below', 'to', 'from', 'up', 'down', 'in', 'out', 'on', 'off', 'over', 'under', 'again', 'further', 'then', 'once', 'here', 'there', 'when', 'where', 'why', 'how', 'all', 'any', 'both', 'each', 'few', 'more', 'most', 'other', 'some', 'such', 'no', 'nor', 'not', 'only', 'own', 'same', 'so', 'than', 'too', 'very', 's', 't', 'can', 'will', 'just', 'don', \"don't\", 'should', \"should've\", 'now', 'd', 'll', 'm', 'o', 're', 've', 'y', 'ain', 'aren', \"aren't\", 'couldn', \"couldn't\", 'didn', \"didn't\", 'doesn', \"doesn't\", 'hadn', \"hadn't\", 'hasn', \"hasn't\", 'haven', \"haven't\", 'isn', \"isn't\", 'ma', 'mightn', \"mightn't\", 'mustn', \"mustn't\", 'needn', \"needn't\", 'shan', \"shan't\", 'shouldn', \"shouldn't\", 'wasn', \"wasn't\", 'weren', \"weren't\", 'won', \"won't\", 'wouldn', \"wouldn't\"]\n"
     ]
    }
   ],
   "source": [
    "#print stopwords which are unnecessary to build them as victors\n",
    "print(stopwords.words('english'))"
   ]
  },
  {
   "cell_type": "code",
   "execution_count": 223,
   "id": "513da667",
   "metadata": {},
   "outputs": [],
   "source": [
    "#build function to loop with it on other reviews\n",
    "s = df['Review'][0]"
   ]
  },
  {
   "cell_type": "code",
   "execution_count": 224,
   "id": "de117ff2",
   "metadata": {},
   "outputs": [
    {
     "data": {
      "text/plain": [
       "'Wow... Loved this place.'"
      ]
     },
     "execution_count": 224,
     "metadata": {},
     "output_type": "execute_result"
    }
   ],
   "source": [
    "s"
   ]
  },
  {
   "cell_type": "code",
   "execution_count": 225,
   "id": "64bc52aa",
   "metadata": {},
   "outputs": [],
   "source": [
    "#build regullar expression to filter the reviews to onlly letters and numbers\n",
    "#save this model as s to loop on other reviews\n",
    "import re\n",
    "s = re.sub('[^a-zA-Z]',\" \",s)"
   ]
  },
  {
   "cell_type": "code",
   "execution_count": 226,
   "id": "ab1cf15a",
   "metadata": {},
   "outputs": [],
   "source": [
    "s = s.lower()"
   ]
  },
  {
   "cell_type": "code",
   "execution_count": 227,
   "id": "9b201f60",
   "metadata": {},
   "outputs": [
    {
     "data": {
      "text/plain": [
       "'wow    loved this place '"
      ]
     },
     "execution_count": 227,
     "metadata": {},
     "output_type": "execute_result"
    }
   ],
   "source": [
    "s"
   ]
  },
  {
   "cell_type": "code",
   "execution_count": 228,
   "id": "50466152",
   "metadata": {},
   "outputs": [],
   "source": [
    "#split the words of review s\n",
    "s = s.split()"
   ]
  },
  {
   "cell_type": "code",
   "execution_count": 229,
   "id": "ac87865e",
   "metadata": {},
   "outputs": [
    {
     "data": {
      "text/plain": [
       "['wow', 'loved', 'this', 'place']"
      ]
     },
     "execution_count": 229,
     "metadata": {},
     "output_type": "execute_result"
    }
   ],
   "source": [
    "s"
   ]
  },
  {
   "cell_type": "code",
   "execution_count": 230,
   "id": "140dfe9e",
   "metadata": {},
   "outputs": [],
   "source": [
    "#now we build the loop and apply s model on all reviews\n",
    "temp = []\n",
    "for word in s:\n",
    "    if word not in stopwords.words('english'):\n",
    "        temp.append(word)"
   ]
  },
  {
   "cell_type": "code",
   "execution_count": 231,
   "id": "762a49dc",
   "metadata": {},
   "outputs": [
    {
     "data": {
      "text/plain": [
       "['wow', 'loved', 'place']"
      ]
     },
     "execution_count": 231,
     "metadata": {},
     "output_type": "execute_result"
    }
   ],
   "source": [
    "#now the new s is shown without this because we applied the stopwords\n",
    "temp"
   ]
  },
  {
   "cell_type": "code",
   "execution_count": 232,
   "id": "bd592df0",
   "metadata": {},
   "outputs": [],
   "source": [
    "#delete all comma etc."
   ]
  },
  {
   "cell_type": "code",
   "execution_count": 233,
   "id": "0396326d",
   "metadata": {},
   "outputs": [
    {
     "data": {
      "text/plain": [
       "'wow loved place'"
      ]
     },
     "execution_count": 233,
     "metadata": {},
     "output_type": "execute_result"
    }
   ],
   "source": [
    "s= ' '.join(temp)\n",
    "s"
   ]
  },
  {
   "cell_type": "code",
   "execution_count": 234,
   "id": "7d1ad6f1",
   "metadata": {},
   "outputs": [],
   "source": [
    "#transfer the words to simple form with helpl of Porterstemer in nltk liberary"
   ]
  },
  {
   "cell_type": "code",
   "execution_count": 235,
   "id": "cd0e4bce",
   "metadata": {},
   "outputs": [],
   "source": [
    "from nltk.stem import PorterStemmer"
   ]
  },
  {
   "cell_type": "code",
   "execution_count": 236,
   "id": "7e8024ca",
   "metadata": {},
   "outputs": [
    {
     "data": {
      "text/plain": [
       "'wow loved plac'"
      ]
     },
     "execution_count": 236,
     "metadata": {},
     "output_type": "execute_result"
    }
   ],
   "source": [
    "ps = PorterStemmer()\n",
    "s = ps.stem(s)\n",
    "s"
   ]
  },
  {
   "cell_type": "code",
   "execution_count": 237,
   "id": "fa9c1624",
   "metadata": {},
   "outputs": [],
   "source": [
    "#now we reached the form where the machine understand the review \n",
    "#and can anallyse the feelings of the customers towards the Restaurant."
   ]
  },
  {
   "cell_type": "code",
   "execution_count": 238,
   "id": "5e213a37",
   "metadata": {},
   "outputs": [],
   "source": [
    "#Now the text is ready to embede the words to vectors by importing\n",
    "#CountVectorizer fromm sklearn\n",
    "#here we must convert the text to array\n",
    "from sklearn.feature_extraction.text import CountVectorizer"
   ]
  },
  {
   "cell_type": "code",
   "execution_count": 239,
   "id": "38a863d5",
   "metadata": {},
   "outputs": [],
   "source": [
    "# Create a CountVectorizer object\n",
    "cv = CountVectorizer"
   ]
  },
  {
   "cell_type": "code",
   "execution_count": 240,
   "id": "67cd1290",
   "metadata": {},
   "outputs": [
    {
     "ename": "TypeError",
     "evalue": "fit_transform() missing 1 required positional argument: 'raw_documents'",
     "output_type": "error",
     "traceback": [
      "\u001b[0;31m---------------------------------------------------------------------------\u001b[0m",
      "\u001b[0;31mTypeError\u001b[0m                                 Traceback (most recent call last)",
      "\u001b[0;32m/var/folders/l_/bhn_1pw10rsc7mz4xy_w53y00000gn/T/ipykernel_28996/2240651257.py\u001b[0m in \u001b[0;36m<module>\u001b[0;34m\u001b[0m\n\u001b[1;32m      1\u001b[0m \u001b[0;31m# Fit and transform the text data\u001b[0m\u001b[0;34m\u001b[0m\u001b[0;34m\u001b[0m\u001b[0m\n\u001b[1;32m      2\u001b[0m \u001b[0;31m# Convert the result to a dense array\u001b[0m\u001b[0;34m\u001b[0m\u001b[0;34m\u001b[0m\u001b[0m\n\u001b[0;32m----> 3\u001b[0;31m \u001b[0mcv\u001b[0m\u001b[0;34m.\u001b[0m\u001b[0mfit_transform\u001b[0m\u001b[0;34m(\u001b[0m\u001b[0ms\u001b[0m\u001b[0;34m.\u001b[0m\u001b[0msplit\u001b[0m\u001b[0;34m(\u001b[0m\u001b[0;34m)\u001b[0m\u001b[0;34m)\u001b[0m\u001b[0;34m.\u001b[0m\u001b[0mtoarray\u001b[0m\u001b[0;34m(\u001b[0m\u001b[0;34m)\u001b[0m\u001b[0;34m\u001b[0m\u001b[0;34m\u001b[0m\u001b[0m\n\u001b[0m",
      "\u001b[0;31mTypeError\u001b[0m: fit_transform() missing 1 required positional argument: 'raw_documents'"
     ]
    }
   ],
   "source": [
    "# Fit and transform the text data\n",
    "# Convert the result to a dense array\n",
    "cv.fit_transform(s.split()).toarray()\n"
   ]
  },
  {
   "cell_type": "code",
   "execution_count": 243,
   "id": "4e773953",
   "metadata": {},
   "outputs": [
    {
     "data": {
      "text/plain": [
       "['wow loved plac',\n",
       " 'crust good',\n",
       " 'tasty texture nasti',\n",
       " 'stopped late may bank holiday rick steve recommendation lov',\n",
       " 'selection menu great pric',\n",
       " 'getting angry want damn pho',\n",
       " 'honeslty taste fresh',\n",
       " 'potatoes like rubber could tell made ahead time kept warm',\n",
       " 'fries great',\n",
       " 'great touch',\n",
       " 'service prompt',\n",
       " 'would go back',\n",
       " 'cashier care ever say still ended wayyy overpr',\n",
       " 'tried cape cod ravoli chicken cranberry mmmm',\n",
       " 'disgusted pretty sure human hair',\n",
       " 'shocked signs indicate cash',\n",
       " 'highly recommend',\n",
       " 'waitress little slow servic',\n",
       " 'place worth time let alone vega',\n",
       " 'like',\n",
       " 'burrittos blah',\n",
       " 'food amaz',\n",
       " 'service also cut',\n",
       " 'could care less interior beauti',\n",
       " 'perform',\n",
       " 'right red velvet cake ohhh stuff good',\n",
       " 'never brought salad ask',\n",
       " 'hole wall great mexican street tacos friendly staff',\n",
       " 'took hour get food tables restaurant food luke warm sever running around like totally overwhelm',\n",
       " 'worst salmon sashimi',\n",
       " 'also combos like burger fries beer decent d',\n",
       " 'like final blow',\n",
       " 'found place accident could happi',\n",
       " 'seems like good quick place grab bite familiar pub food favor look elsewher',\n",
       " 'overall like place lot',\n",
       " 'redeeming quality restaurant inexpens',\n",
       " 'ample portions good pric',\n",
       " 'poor service waiter made feel like stupid every time came t',\n",
       " 'first visit hiro delight',\n",
       " 'service suck',\n",
       " 'shrimp tender moist',\n",
       " 'deal good enough would drag establish',\n",
       " 'hard judge whether sides good grossed melted styrofoam want eat fear getting sick',\n",
       " 'positive note server attentive provided great servic',\n",
       " 'frozen pucks disgust worst people behind regist',\n",
       " 'thing like prime rib dessert sect',\n",
       " 'bad food damn gener',\n",
       " 'burger good beef cooked right',\n",
       " 'want sandwich go firehous',\n",
       " 'side greek salad greek dressing tasty pita hummus refresh',\n",
       " 'ordered duck rare pink tender inside nice char outsid',\n",
       " 'came running us realized husband left sunglasses t',\n",
       " 'chow mein good',\n",
       " 'horrible attitudes towards customers talk one customers enjoy food',\n",
       " 'portion hug',\n",
       " 'loved friendly servers great food wonderful imaginative menu',\n",
       " 'heart attack grill downtown vegas absolutely flat lined excuse restaur',\n",
       " 'much seafood like strings pasta bottom',\n",
       " 'salad right amount sauce power scallop perfectly cook',\n",
       " 'ripped banana ripped petrified tasteless',\n",
       " 'least think refill water struggle wave minut',\n",
       " 'place receives stars appet',\n",
       " 'cocktails handmade delici',\n",
       " 'definitely go back',\n",
       " 'glad found plac',\n",
       " 'great food service huge portions give military discount',\n",
       " 'always great time dos gringo',\n",
       " 'update went back second time still amaz',\n",
       " 'got food apparently never heard salt batter fish chewi',\n",
       " 'great way finish great',\n",
       " 'deal included tastings drinks jeff went beyond expect',\n",
       " 'really really good rice tim',\n",
       " 'service meh',\n",
       " 'took min get milkshake nothing chocolate milk',\n",
       " 'guess known place would suck inside excalibur use common sens',\n",
       " 'scallop dish quite appalling value wel',\n",
       " 'times bad customer servic',\n",
       " 'sweet potato fries good seasoned wel',\n",
       " 'today second time lunch buffet pretty good',\n",
       " 'much good food vegas feel cheated wasting eating opportunity going rice compani',\n",
       " 'coming like experiencing underwhelming relationship parties wait person ask break',\n",
       " 'walked place smelled like old grease trap others ',\n",
       " 'turkey roast beef bland',\n",
       " 'place',\n",
       " 'pan cakes everyone raving taste like sugary disaster tailored palate six year old',\n",
       " 'love pho spring rolls oh yummy tri',\n",
       " 'poor batter meat ratio made chicken tenders unsatisfi',\n",
       " 'say food amaz',\n",
       " 'omelets di',\n",
       " 'everything fresh delici',\n",
       " 'summary largely disappointing dining experi',\n",
       " 'like really sexy party mouth outrageously flirting hottest person parti',\n",
       " 'never hard rock casino never ever step forward',\n",
       " 'best breakfast buffet',\n",
       " 'say bye bye tip ladi',\n",
       " 'never go',\n",
       " 'back',\n",
       " 'food arrived quickli',\n",
       " 'good',\n",
       " 'side cafe serves really good food',\n",
       " 'server fantastic found wife loves roasted garlic bone marrow added extra meal another marrow go',\n",
       " 'good thing waiter helpful kept bloddy mary com',\n",
       " 'best buffet town price cannot beat',\n",
       " 'loved mussels cooked wine reduction duck tender potato dishes delici',\n",
       " 'one better buffet',\n",
       " 'went tigerlilly fantastic afternoon',\n",
       " 'food delicious bartender attentive personable got great d',\n",
       " 'ambience wonderful music play',\n",
       " 'go back next trip',\n",
       " 'sooooo good',\n",
       " 'real sushi lovers let honest yama good',\n",
       " 'least min passed us ordering food arriving busi',\n",
       " 'really fantastic thai restaurant definitely worth visit',\n",
       " 'nice spicy tend',\n",
       " 'good pric',\n",
       " 'check',\n",
       " 'pretty gross',\n",
       " 'better atmospher',\n",
       " 'kind hard mess steak',\n",
       " 'although much liked look sound place actual experience bit disappoint',\n",
       " 'know place managed served blandest food ever eaten preparing indian cuisin',\n",
       " 'worst service boot least worri',\n",
       " 'service fine waitress friendli',\n",
       " 'guys steaks steak loving son steak best worst places said best steak ever eaten',\n",
       " 'thought venture away get good sushi place really hit spot night',\n",
       " 'host staff lack better word bitch',\n",
       " 'bland liking place number reasons want waste time bad reviewing leav',\n",
       " 'phenomenal food service ambi',\n",
       " 'return',\n",
       " 'definitely worth venturing strip pork belly return next time vega',\n",
       " 'place way overpriced mediocre food',\n",
       " 'penne vodka excel',\n",
       " 'good selection food including massive meatloaf sandwich crispy chicken wrap delish tuna melt tasty burg',\n",
       " 'management rud',\n",
       " 'delicious nyc bagels good selections cream cheese real lox capers even',\n",
       " 'great subway fact good come every subway meet expect',\n",
       " 'seriously solid breakfast',\n",
       " 'one best bars food vega',\n",
       " 'extremely rude really many restaurants would love dine weekend vega',\n",
       " 'drink never empty made really great menu suggest',\n",
       " '',\n",
       " 'waiter helpful friendly rarely checked u',\n",
       " 'husband ate lunch disappointed food servic',\n",
       " 'red curry much bamboo shoots tasti',\n",
       " 'nice blanket moz top feel like done cover subpar food',\n",
       " 'bathrooms clean place well decor',\n",
       " 'menu always changing food quality going service extremely slow',\n",
       " 'service little slow considering served people servers food coming slow pac',\n",
       " 'give thumb',\n",
       " 'watched waiter pay lot attention tables ignore u',\n",
       " 'fianc came middle day greeted seated right away',\n",
       " 'great restaurant mandalay bay',\n",
       " 'waited forty five minutes vain',\n",
       " 'crostini came salad stal',\n",
       " 'highlights great quality nigiri',\n",
       " 'staff friendly joint always clean',\n",
       " 'different cut piece day still wonderful tender well well flavor',\n",
       " 'ordered voodoo pasta first time really excellent pasta since going gluten free several years ago',\n",
       " 'place good',\n",
       " 'unfortunately must hit bakery leftover day everything ordered stal',\n",
       " 'came back today since relocated still impress',\n",
       " 'seated immedi',\n",
       " 'menu diverse reasonably pr',\n",
       " 'avoid cost',\n",
       " 'restaurant always full never wait',\n",
       " 'delici',\n",
       " 'place hands one best places eat phoenix metro area',\n",
       " 'go looking good food',\n",
       " 'never treated bad',\n",
       " 'bacon hella salti',\n",
       " 'also ordered spinach avocado salad ingredients sad dressing literally zero tast',\n",
       " 'really vegas fine dining used right menus handed ladies prices list',\n",
       " 'waitresses friendli',\n",
       " 'lordy khao soi dish missed curry lov',\n",
       " 'everything menu terrific also thrilled made amazing accommodations vegetarian daught',\n",
       " 'perhaps caught night judging reviews inspired go back',\n",
       " 'service leaves lot desir',\n",
       " 'atmosphere modern hip maintaining touch cozi',\n",
       " 'weekly haunt definitely place come back everi',\n",
       " 'literally sat minutes one asking take ord',\n",
       " 'burger absolutely flavor meat totally bland burger overcooked charcoal flavor',\n",
       " 'also decided send back waitress looked like verge heart attack',\n",
       " 'dressed treated rud',\n",
       " 'probably dirt',\n",
       " 'love place hits spot want something healthy lacking quantity flavor',\n",
       " 'ordered lemon raspberry ice cocktail also incred',\n",
       " 'food sucked expected sucked could imagin',\n",
       " 'interesting decor',\n",
       " 'really like crepe st',\n",
       " 'also served hot bread butter home made potato chips bacon bits top original good',\n",
       " 'watch preparing delicious food',\n",
       " 'egg rolls fantast',\n",
       " 'order arrived one gyros miss',\n",
       " 'salad wings ice cream dessert left feeling quite satisfi',\n",
       " 'really sure joey voted best hot dog valley readers phoenix magazin',\n",
       " 'best place go tasty bowl pho',\n",
       " 'live music fridays totally blow',\n",
       " 'never insulted felt disrespect',\n",
       " 'friendly staff',\n",
       " 'worth driv',\n",
       " 'heard good things place exceeding every hope could dream',\n",
       " 'food great serivc',\n",
       " 'warm beer help',\n",
       " 'great brunch spot',\n",
       " 'service friendly invit',\n",
       " 'good lunch spot',\n",
       " 'lived since first last time stepped foot plac',\n",
       " 'worst experience ev',\n",
       " 'must night plac',\n",
       " 'sides delish mixed mushrooms yukon gold puree white corn beat',\n",
       " 'bug never showed would given sure side wall bug climbing kitchen',\n",
       " 'minutes waiting salad realized coming time soon',\n",
       " 'friend loved salmon tartar',\n",
       " 'go back',\n",
       " 'extremely tasti',\n",
       " 'waitress good though',\n",
       " 'soggy good',\n",
       " 'jamaican mojitos delici',\n",
       " 'small worth pric',\n",
       " 'food rich order accordingli',\n",
       " 'shower area outside rinse take full shower unless mind nude everyone se',\n",
       " 'service bit lack',\n",
       " 'lobster bisque bussell sprouts risotto filet needed salt pepper course none t',\n",
       " 'hopefully bodes going business someone cook com',\n",
       " 'either cold enough flavor bad',\n",
       " 'loved bacon wrapped d',\n",
       " 'unbelievable bargain',\n",
       " 'folks otto always make us feel welcome speci',\n",
       " 'mains also uninspir',\n",
       " 'place first pho amaz',\n",
       " 'wonderful experience made place must stop whenever town',\n",
       " 'food bad enough enjoy dealing world worst annoying drunk peopl',\n",
       " 'fun chef',\n",
       " 'ordered double cheeseburger got single patty falling apart picture uploaded yeah still suck',\n",
       " 'great place couple drinks watch sporting events walls covered tv',\n",
       " 'possible give zero star',\n",
       " 'descriptions said yum yum sauce another said eel sauce yet another said spicy mayo well none rolls sauc',\n",
       " 'say would hardest decision honestly dishes taste supposed taste amaz',\n",
       " 'rolled eyes may stayed sure go back tri',\n",
       " 'everyone attentive providing excellent customer servic',\n",
       " 'horrible waste time money',\n",
       " 'dish quite flavour',\n",
       " 'time side restaurant almost empty excus',\n",
       " 'busy either also building freezing cold',\n",
       " 'like reviewer said pay eat plac',\n",
       " 'drinks took close minutes come one point',\n",
       " 'seriously flavorful delights folk',\n",
       " 'much better ayce sushi place went vega',\n",
       " 'lighting dark enough set mood',\n",
       " 'based sub par service received effort show gratitude business going back',\n",
       " 'owner really great peopl',\n",
       " 'nothing privileged working ',\n",
       " 'greek dressing creamy flavor',\n",
       " 'overall think would take parents place made similar complaints silently felt',\n",
       " 'pizza good peanut sauce tasti',\n",
       " 'table service pretty fast',\n",
       " 'fantastic servic',\n",
       " 'well would given godfathers zero stars poss',\n",
       " 'know mak',\n",
       " 'tough short flavor',\n",
       " 'hope place sticks around',\n",
       " 'bars vegas ever recall charged tap wat',\n",
       " 'restaurant atmosphere exquisit',\n",
       " 'good service clean inexpensive boot',\n",
       " 'seafood fresh generous port',\n",
       " 'plus buck',\n",
       " 'service par eith',\n",
       " 'thus far visited twice food absolutely delicious tim',\n",
       " 'good year ago',\n",
       " 'self proclaimed coffee cafe wildly disappoint',\n",
       " 'veggitarian platter world',\n",
       " 'cant go wrong food',\n",
       " 'beat',\n",
       " 'stopped place madison ironman friendly kind staff',\n",
       " 'chefs friendly good job',\n",
       " 'better dedicated boba tea spots even jenni pho',\n",
       " 'liked patio service outstand',\n",
       " 'goat taco skimp meat wow flavor',\n",
       " 'think',\n",
       " 'mac salad pretty bland get',\n",
       " 'went bachi burger friend recommendation disappoint',\n",
       " 'service stink',\n",
       " 'waited wait',\n",
       " 'place quality sushi quality restaur',\n",
       " 'would definitely recommend wings well pizza',\n",
       " 'great pizza salad',\n",
       " 'things went wrong burned saganaki',\n",
       " 'waited hour breakfast could done times better hom',\n",
       " 'place amaz',\n",
       " 'hate disagree fellow yelpers husband disappointed plac',\n",
       " 'waited hours never got either pizzas many around us came lat',\n",
       " 'know slow',\n",
       " 'staff great food delish incredible beer select',\n",
       " 'live neighborhood disappointed back convenient loc',\n",
       " 'know pulled pork could soooo delici',\n",
       " 'get incredibly fresh fish prepared car',\n",
       " 'go gave star rating please know third time eating bachi burger writing review',\n",
       " 'love fact everything menu worth',\n",
       " 'never dining plac',\n",
       " 'food excellent service good',\n",
       " 'good beer drink selection good food select',\n",
       " 'please stay away shrimp stir fried noodl',\n",
       " 'potato chip order sad could probably count many chips box probably around',\n",
       " 'food really bor',\n",
       " 'good service check',\n",
       " 'greedy corporation never see another dim',\n",
       " 'never ever go back',\n",
       " 'much like go back get passed atrocious service never return',\n",
       " 'summer dine charming outdoor patio delight',\n",
       " 'expect good',\n",
       " 'fantastic food',\n",
       " 'ordered toasted english muffin came untoast',\n",
       " 'food good',\n",
       " 'never going back',\n",
       " 'great food price high quality house mad',\n",
       " 'bus boy hand rud',\n",
       " 'point friends basically figured place joke mind making publicly loudly known',\n",
       " 'back good bbq lighter fare reasonable pricing tell public back old way',\n",
       " 'considering two us left full happy go wrong',\n",
       " 'bread made hous',\n",
       " 'downside servic',\n",
       " 'also fries without doubt worst fries ev',\n",
       " 'service exceptional food good review',\n",
       " 'couple months later returned amazing m',\n",
       " 'favorite place town shawarrrrrrma',\n",
       " 'black eyed peas sweet potatoes unr',\n",
       " 'disappoint',\n",
       " 'could serve vinaigrette may make better overall dish still good',\n",
       " 'go far many places never seen restaurant serves egg breakfast especi',\n",
       " 'mom got home immediately got sick bites salad',\n",
       " 'servers pleasant deal always honor pizza hut coupon',\n",
       " 'truly unbelievably good glad went back',\n",
       " 'fantastic service pleased atmospher',\n",
       " 'everything gross',\n",
       " 'love plac',\n",
       " 'great service food',\n",
       " 'first bathrooms location dirty seat covers replenished plain yucki',\n",
       " 'burger got gold standard burger kind disappoint',\n",
       " 'omg food delicioso',\n",
       " 'nothing authentic plac',\n",
       " 'spaghetti nothing special whatsoev',\n",
       " 'dishes salmon best great',\n",
       " 'vegetables fresh sauce feels like authentic thai',\n",
       " 'worth driving tucson',\n",
       " 'selection probably worst seen vegas non',\n",
       " 'pretty good beer select',\n",
       " 'place like chipotle bett',\n",
       " 'classy warm atmosphere fun fresh appetizers succulent steaks baseball steak',\n",
       " 'stars brick oven bread app',\n",
       " 'eaten multiple times time food delici',\n",
       " 'sat another ten minutes finally gave left',\n",
       " 'terribl',\n",
       " 'everyone treated equally speci',\n",
       " 'take min pancakes egg',\n",
       " 'delici',\n",
       " 'good side staff genuinely pleasant enthusiastic real treat',\n",
       " 'sadly gordon ramsey steak place shall sharply avoid next trip vega',\n",
       " 'always evening wonderful food delici',\n",
       " 'best fish ever lif',\n",
       " 'bathroom next door nic',\n",
       " 'buffet small food offered bland',\n",
       " 'outstanding little restaurant best food ever tast',\n",
       " 'pretty cool would say',\n",
       " 'definitely turn doubt back unless someone else buy',\n",
       " 'server great job handling large rowdy t',\n",
       " 'find wasting food despicable food',\n",
       " 'wife lobster bisque soup lukewarm',\n",
       " 'would come back sushi craving vega',\n",
       " 'staff great ambiance great',\n",
       " 'deserves star',\n",
       " 'left stomach ache felt sick rest day',\n",
       " 'dropped bal',\n",
       " 'dining space tiny elegantly decorated comfort',\n",
       " 'customize order way like usual eggplant green bean stir fry lov',\n",
       " 'beans rice mediocre best',\n",
       " 'best tacos town far',\n",
       " 'took back money got outta',\n",
       " 'interesting part town place amaz',\n",
       " 'rude inconsiderate manag',\n",
       " 'staff friendly wait times served horrible one even says hi first minut',\n",
       " 'back',\n",
       " 'great dinn',\n",
       " 'service outshining definitely recommend halibut',\n",
       " 'food terr',\n",
       " 'never ever go back told many people happen',\n",
       " 'recommend unless car breaks front starv',\n",
       " 'come back every time vega',\n",
       " 'place deserves one star food',\n",
       " 'disgrac',\n",
       " 'def coming back bowl next tim',\n",
       " 'want healthy authentic ethic food try plac',\n",
       " 'continue come ladies night andddd date night highly recommend place anyone area',\n",
       " 'several times past experience always great',\n",
       " 'walked away stuffed happy first vegas buffet experi',\n",
       " 'service excellent prices pretty reasonable considering vegas located inside crystals shopping mall aria',\n",
       " 'summarize food incredible nay transcendant nothing brings joy quite like memory pneumatic condiment dispens',\n",
       " 'probably one people ever go ians lik',\n",
       " 'kids pizza always hit lots great side dish options kiddo',\n",
       " 'service perfect family atmosphere nice se',\n",
       " 'cooked perfection service impecc',\n",
       " 'one simply disappoint',\n",
       " 'overall disappointed quality food bouchon',\n",
       " 'accountant know getting screw',\n",
       " 'great place eat reminds little mom pop shops san francisco bay area',\n",
       " 'today first taste buldogis gourmet hot dog tell ever thought poss',\n",
       " 'left frustr',\n",
       " 'definitely soon',\n",
       " 'food really good got full petty fast',\n",
       " 'service fantast',\n",
       " 'total waste tim',\n",
       " 'know kind best iced tea',\n",
       " 'come hungry leave happy stuf',\n",
       " 'service give star',\n",
       " 'assure disappoint',\n",
       " 'take little bad service food suck',\n",
       " 'gave trying eat crust teeth still sor',\n",
       " 'completely gross',\n",
       " 'really enjoyed ',\n",
       " 'first time going think quickly become regular',\n",
       " 'server nice even though looked little overwhelmed needs stayed professional friendly end',\n",
       " 'dinner companions told everything fresh nice texture tast',\n",
       " 'ground right next table large smeared stepped tracked everywhere pile green bird poop',\n",
       " 'furthermore even find hours operation websit',\n",
       " 'tried like place times think don',\n",
       " 'mistak',\n",
       " 'complaint',\n",
       " 'seriously good pizza expert connisseur top',\n",
       " 'waiter jerk',\n",
       " 'strike wants rush',\n",
       " 'nicest restaurant owners ever come across',\n",
       " 'never com',\n",
       " 'loved biscuit',\n",
       " 'service quick friendli',\n",
       " 'ordered appetizer took minutes pizza another minut',\n",
       " 'absolutley fantast',\n",
       " 'huge awkward lb piece cow ths gristle fat',\n",
       " 'definitely come back',\n",
       " 'like steiners dark feels like bar',\n",
       " 'wow spicy delici',\n",
       " 'familiar check',\n",
       " 'take business dinner dollars elsewher',\n",
       " 'love go back',\n",
       " 'anyway fs restaurant wonderful breakfast lunch',\n",
       " 'nothing speci',\n",
       " 'day week different deal delici',\n",
       " 'mention combination pears almonds bacon big winn',\n",
       " 'back',\n",
       " 'sauce tasteless',\n",
       " 'food delicious spicy enough sure ask spicier prefer way',\n",
       " 'ribeye steak cooked perfectly great mesquite flavor',\n",
       " 'think going back anytime soon',\n",
       " 'food gooodd',\n",
       " 'far sushi connoisseur definitely tell difference good food bad food certainly bad food',\n",
       " 'insult',\n",
       " 'last times lunch bad',\n",
       " 'chicken wings contained driest chicken meat ever eaten',\n",
       " 'food good enjoyed every mouthful enjoyable relaxed venue couples small family groups etc',\n",
       " 'nargile think great',\n",
       " 'best tater tots southwest',\n",
       " 'loved plac',\n",
       " 'definitely worth paid',\n",
       " 'vanilla ice cream creamy smooth profiterole choux pastry fresh enough',\n",
       " 'im az time new spot',\n",
       " 'manager worst',\n",
       " 'inside really quite nice clean',\n",
       " 'food outstanding prices reason',\n",
       " 'think running back carly anytime soon food',\n",
       " 'due fact took minutes acknowledged another minutes get food kept forgetting th',\n",
       " 'love margarita',\n",
       " 'first vegas buffet disappoint',\n",
       " 'good though',\n",
       " 'one note ventilation could use upgrad',\n",
       " 'great pork sandwich',\n",
       " 'waste tim',\n",
       " 'total letdown would much rather go camelback flower shop cartel coffe',\n",
       " 'third cheese friend burger cold',\n",
       " 'enjoy pizza brunch',\n",
       " 'steaks well trimmed also perfectly cook',\n",
       " 'group claimed would handled us beauti',\n",
       " 'love',\n",
       " 'asked bill leave without eating bring eith',\n",
       " 'place jewel las vegas exactly hoping find nearly ten years liv',\n",
       " 'seafood limited boiled shrimp crab legs crab legs definitely taste fresh',\n",
       " 'selection food best',\n",
       " 'delicious absolutely back',\n",
       " 'small family restaurant fine dining establish',\n",
       " 'toro tartare cavier extraordinary liked thinly sliced wagyu white truffl',\n",
       " 'dont think back long tim',\n",
       " 'attached gas station rarely good sign',\n",
       " 'awesom',\n",
       " 'back many times soon',\n",
       " 'menu much good stuff could decid',\n",
       " 'worse humiliated worker right front bunch horrible name cal',\n",
       " 'conclusion filling m',\n",
       " 'daily specials always hit group',\n",
       " 'tragedy struck',\n",
       " 'pancake also really good pretty larg',\n",
       " 'first crawfish experience delici',\n",
       " 'monster chicken fried steak eggs time favorit',\n",
       " 'waitress sweet funni',\n",
       " 'also taste mom multi grain pumpkin pancakes pecan butter amazing fluffy delici',\n",
       " 'rather eat airline food seri',\n",
       " 'cant say enough good things plac',\n",
       " 'ambiance incred',\n",
       " 'waitress manager friendli',\n",
       " 'would recommend plac',\n",
       " 'overall impressed noca',\n",
       " 'gyro basically lettuc',\n",
       " 'terrible servic',\n",
       " 'thoroughly disappoint',\n",
       " 'much pasta love homemade hand made pastas thin pizza',\n",
       " 'give try happi',\n",
       " 'far best cheesecurds ev',\n",
       " 'reasonably priced also',\n",
       " 'everything perfect night',\n",
       " 'food good typical bar food',\n",
       " 'drive get',\n",
       " 'first glance lovely bakery cafe nice ambiance clean friendly staff',\n",
       " 'anyway think go back',\n",
       " 'point finger item menu order disappoint',\n",
       " 'oh thing beauty restaur',\n",
       " 'gone go',\n",
       " 'greasy unhealthy m',\n",
       " 'first time might last',\n",
       " 'burgers amaz',\n",
       " 'similarly delivery man say word apology food minutes l',\n",
       " 'way expens',\n",
       " 'sure order dessert even need pack go tiramisu cannoli di',\n",
       " 'first time wait next',\n",
       " 'bartender also nic',\n",
       " 'everything good tasti',\n",
       " 'place two thumbs way',\n",
       " 'best place vegas breakfast check sat sun',\n",
       " 'love authentic mexican food want whole bunch interesting yet delicious meats choose need try plac',\n",
       " 'terrible manag',\n",
       " 'excellent new restaurant experienced frenchman',\n",
       " 'zero stars would give zero star',\n",
       " 'great steak great sides great wine amazing dessert',\n",
       " 'worst martini ev',\n",
       " 'steak shrimp opinion best entrees gc',\n",
       " 'opportunity today sample amazing pizza',\n",
       " 'waited thirty minutes seated although vacant tables folks wait',\n",
       " 'yellowtail carpaccio melt mouth fresh',\n",
       " 'try going back even empti',\n",
       " 'going eat potato found strangers hair',\n",
       " 'spicy enough perfect actu',\n",
       " 'last night second time dining happy decided go back',\n",
       " 'even hello right',\n",
       " 'desserts bit strang',\n",
       " 'boyfriend came first time recent trip vegas could pleased quality food servic',\n",
       " 'really recommend place go wrong donut plac',\n",
       " 'nice ambi',\n",
       " 'would recommend saving room',\n",
       " 'guess maybe went night disgrac',\n",
       " 'however recent experience particular location good',\n",
       " 'know like restaurants someth',\n",
       " 'avoid establish',\n",
       " 'think restaurant suffers trying hard enough',\n",
       " 'tapas dishes delici',\n",
       " 'heart plac',\n",
       " 'salad bland vinegrette baby greens hearts palm',\n",
       " 'two felt disgust',\n",
       " 'good tim',\n",
       " 'believe place great stop huge belly hankering sushi',\n",
       " 'generous portions great tast',\n",
       " 'never go back place never ever recommended place anyon',\n",
       " 'servers went back forth several times even much help',\n",
       " 'food delici',\n",
       " 'hour seri',\n",
       " 'consider theft',\n",
       " 'eew location needs complete overhaul',\n",
       " 'recently witnessed poor quality management towards guests wel',\n",
       " 'waited waited wait',\n",
       " 'also came back check us regularly excellent servic',\n",
       " 'server super nice checked us many tim',\n",
       " 'pizza tasted old super chewy good way',\n",
       " 'swung give try deeply disappoint',\n",
       " 'service good company bett',\n",
       " 'staff also friendly effici',\n",
       " 'service fan quick served nice folk',\n",
       " 'boy sucker dri',\n",
       " 'rate',\n",
       " 'look authentic thai food go els',\n",
       " 'steaks recommend',\n",
       " 'pulled car waited another minutes acknowledg',\n",
       " 'great food great service clean friendly set',\n",
       " 'assure back',\n",
       " 'hate things much cheap quality black ol',\n",
       " 'breakfast perpared great beautiful presentation giant slices toast lightly dusted powdered sugar',\n",
       " 'kids play area nasti',\n",
       " 'great place fo take eat',\n",
       " 'waitress friendly happy accomodate vegan veggie opt',\n",
       " 'omg felt like never eaten thai food dish',\n",
       " 'extremely crumby pretty tasteless',\n",
       " 'pale color instead nice char flavor',\n",
       " 'croutons also taste homemade extra plu',\n",
       " 'got home see driest damn wings ev',\n",
       " 'regular stop trips phoenix',\n",
       " 'really enjoyed crema caf expanded even told friends best breakfast',\n",
       " 'good money',\n",
       " 'miss wish one philadelphia',\n",
       " 'got sitting fairly fast ended waiting minutes place order another minutes food arriv',\n",
       " 'also best cheese crisp town',\n",
       " 'good value great food great servic',\n",
       " 'ask satisfying m',\n",
       " 'food good',\n",
       " 'awesom',\n",
       " 'wanted leav',\n",
       " 'made drive way north scottsdale one bit disappoint',\n",
       " 'eat',\n",
       " 'owners really really need quit soooooo cheap let wrap freaking sandwich two papers on',\n",
       " 'checked place couple years ago impress',\n",
       " 'chicken got definitely reheated ok wedges cold soggi',\n",
       " 'sorry getting food anytime soon',\n",
       " 'absolute must visit',\n",
       " 'cow tongue cheek tacos amaz',\n",
       " 'friend like bloody mari',\n",
       " 'despite hard rate businesses actually rare give star',\n",
       " 'really want make experience good on',\n",
       " 'return',\n",
       " 'chicken pho tasted bland',\n",
       " 'disappoint',\n",
       " 'grilled chicken tender yellow saffron season',\n",
       " 'drive thru means want wait around half hour food somehow end going make us wait wait',\n",
       " 'pretty awesome plac',\n",
       " 'ambience perfect',\n",
       " 'best luck rude non customer service focused new manag',\n",
       " 'grandmother make roasted chicken better on',\n",
       " 'asked multiple times wine list time ignored went hostess got on',\n",
       " 'staff always super friendly helpful especially cool bring two small boys babi',\n",
       " 'four stars food guy blue shirt great vibe still letting us eat',\n",
       " 'roast beef sandwich tasted really good',\n",
       " 'evening drastically sick',\n",
       " 'high quality chicken chicken caesar salad',\n",
       " 'ordered burger rare came don',\n",
       " 'promptly greeted s',\n",
       " 'tried go lunch madhous',\n",
       " 'proven dead wrong sushi bar quality great service fast food impecc',\n",
       " 'waiting hour seated greatest mood',\n",
       " 'good joint',\n",
       " 'macarons insanely good',\n",
       " 'eat',\n",
       " 'waiter attentive friendly inform',\n",
       " 'maybe cold would somewhat ed',\n",
       " 'place lot promise fails deliv',\n",
       " 'bad experi',\n",
       " 'mistak',\n",
       " 'food average best',\n",
       " 'great food',\n",
       " 'going back anytime soon',\n",
       " 'disappointed ordered big bay plat',\n",
       " 'great place relax awesome burger b',\n",
       " 'perfect sit family meal get together friend',\n",
       " 'much flavor poorly construct',\n",
       " 'patio seating comfort',\n",
       " 'fried rice dry wel',\n",
       " 'hands favorite italian restaur',\n",
       " 'screams legit book somethat also pretty rare vega',\n",
       " 'fun experi',\n",
       " 'atmosphere great lovely duo violinists playing songs request',\n",
       " 'personally love hummus pita baklava falafels baba ganoush amazing eggpl',\n",
       " 'convenient since staying mgm',\n",
       " 'owners super friendly staff court',\n",
       " 'great',\n",
       " 'eclectic select',\n",
       " 'sweet potato tots good onion rings perfection clos',\n",
       " 'staff attent',\n",
       " 'chef generous time even came around twice take pictur',\n",
       " 'owner used work nobu place really similar half pric',\n",
       " 'google mediocre imagine smashburger pop',\n",
       " 'dont go',\n",
       " 'promise disappoint',\n",
       " 'sushi lover avoid place mean',\n",
       " 'great double cheeseburg',\n",
       " 'awesome service food',\n",
       " 'fantastic neighborhood gem',\n",
       " 'wait go back',\n",
       " 'plantains worst ever tast',\n",
       " 'great place highly recommend',\n",
       " 'service slow attent',\n",
       " 'gave stars giving star',\n",
       " 'staff spends time talk',\n",
       " 'dessert panna cotta amaz',\n",
       " 'good food great atmospher',\n",
       " 'damn good steak',\n",
       " 'total brunch fail',\n",
       " 'prices reasonable flavors spot sauce home made slaw drenched mayo',\n",
       " 'decor nice piano music soundtrack pleas',\n",
       " 'steak amazing rge fillet relleno best seafood plate ev',\n",
       " 'good food good servic',\n",
       " 'absolutely amaz',\n",
       " 'probably back honest',\n",
       " 'definitely back',\n",
       " 'sergeant pepper beef sandwich auju sauce excellent sandwich wel',\n",
       " 'hawaiian breeze mango magic pineapple delight smoothies tried far good',\n",
       " 'went lunch service slow',\n",
       " 'much say place walked expected amazing quickly disappoint',\n",
       " 'mortifi',\n",
       " 'needless say never back',\n",
       " 'anyways food definitely filling price pay expect',\n",
       " 'chips came dripping grease mostly ed',\n",
       " 'really impressed strip steak',\n",
       " 'going since every meal awesom',\n",
       " 'server nice attentive serving staff',\n",
       " 'cashier friendly even brought food',\n",
       " 'work hospitality industry paradise valley refrained recommending cibo long',\n",
       " 'atmosphere fun',\n",
       " 'would recommend oth',\n",
       " 'service quick even go orders like lik',\n",
       " 'mean really get famous fish chips terr',\n",
       " 'said mouths bellies still quite pleas',\n",
       " 'thing',\n",
       " 'thumb',\n",
       " 'reading please go',\n",
       " 'loved grilled pizza reminded legit italian pizza',\n",
       " 'pros large seating area nice bar area great simple drink menu best brick oven pizza homemade dough',\n",
       " 'really nice atmospher',\n",
       " 'tonight elk filet special suck',\n",
       " 'one bite hook',\n",
       " 'ordered old classics new dishes going times sorely disappointed everyth',\n",
       " 'cute quaint simple honest',\n",
       " 'chicken deliciously seasoned perfect fry outside moist chicken insid',\n",
       " 'food great always compliments chef',\n",
       " 'special thanks dylan recommendation order yummy tummi',\n",
       " 'awesome selection b',\n",
       " 'great food awesome servic',\n",
       " 'one nice thing added gratuity bill since party larger expect tip',\n",
       " 'fly apple juice fli',\n",
       " 'han nan chicken also tasti',\n",
       " 'service thought good',\n",
       " 'food barely lukewarm must sitting waiting server bring u',\n",
       " 'ryan bar definitely one edinburgh establishment revisit',\n",
       " 'nicest chinese restaur',\n",
       " 'overall like food servic',\n",
       " 'also serve indian naan bread hummus spicy pine nut sauce world',\n",
       " 'probably never coming back recommend',\n",
       " 'friend pasta also bad barely touch',\n",
       " 'try airport experience tasty food speedy friendly servic',\n",
       " 'love decor chinese calligraphy wall pap',\n",
       " 'never anything complain',\n",
       " 'restaurant clean family restaurant feel',\n",
       " 'way fri',\n",
       " 'sure long stood long enough begin feel awkwardly plac',\n",
       " 'opened sandwich impressed good way',\n",
       " 'back',\n",
       " 'warm feeling service felt like guest special treat',\n",
       " 'extensive menu provides lots options breakfast',\n",
       " 'always order vegetarian menu dinner wide array options choos',\n",
       " 'watched prices inflate portions get smaller management attitudes grow rapidli',\n",
       " 'wonderful lil tapas ambience made feel warm fuzzy insid',\n",
       " 'got enjoy seafood salad fabulous vinegrett',\n",
       " 'wontons thin thick chewy almost melt mouth',\n",
       " 'level spicy perfect spice whelm soup',\n",
       " 'sat right time server get go fantast',\n",
       " 'main thing enjoy crowd older crowd around mid',\n",
       " 'side town definitely spot hit',\n",
       " 'wait minutes get drink longer get arepa',\n",
       " 'great place eat',\n",
       " 'jalapeno bacon soooo good',\n",
       " 'service poor thats nic',\n",
       " 'food good service good prices good',\n",
       " 'place clean food oh stal',\n",
       " 'chicken dishes ok beef like shoe leath',\n",
       " 'service beyond bad',\n",
       " 'happi',\n",
       " 'tasted like dirt',\n",
       " 'one places phoenix would definately go back',\n",
       " 'block amaz',\n",
       " 'close house low key non fancy affordable prices good food',\n",
       " 'hot sour egg flower soups absolutely star',\n",
       " 'sashimi poor quality soggy tasteless',\n",
       " 'great time family dinner sunday night',\n",
       " 'food tasty say real traditional hunan styl',\n",
       " 'bother slow servic',\n",
       " 'flair bartenders absolutely amaz',\n",
       " 'frozen margaritas way sugary tast',\n",
       " 'good ordered twic',\n",
       " 'nutshell restaraunt smells like combination dirty fish market sew',\n",
       " 'girlfriend veal bad',\n",
       " 'unfortunately good',\n",
       " 'pretty satifying experi',\n",
       " 'join club get awesome offers via email',\n",
       " 'perfect someone likes beer ice cold case even cold',\n",
       " 'bland flavorless good way describing barely tepid meat',\n",
       " 'chains fan beat place easili',\n",
       " 'nachos must',\n",
       " 'coming back',\n",
       " 'many words say place everything pretty wel',\n",
       " 'staff super nice quick even crazy crowds downtown juries lawyers court staff',\n",
       " 'great atmosphere friendly fast servic',\n",
       " 'received pita huge lot meat thumb',\n",
       " 'food arrives meh',\n",
       " 'paying hot dog fries looks like came kid meal wienerschnitzel idea good m',\n",
       " 'classic maine lobster roll fantast',\n",
       " 'brother law works mall ate day guess sick night',\n",
       " 'good going review place twice hereas tribute place tribute event held last night',\n",
       " 'chips salsa really good salsa fresh',\n",
       " 'place great',\n",
       " 'mediocre food',\n",
       " 'get inside impressed plac',\n",
       " 'super pissd',\n",
       " 'service super friendli',\n",
       " 'sad little vegetables overcook',\n",
       " 'place nice surpris',\n",
       " 'golden crispy delici',\n",
       " 'high hopes place since burgers cooked charcoal grill unfortunately taste fell flat way flat',\n",
       " 'could eat bruschetta day devin',\n",
       " 'single employee came see ok even needed water refill finally served us food',\n",
       " 'lastly mozzarella sticks best thing ord',\n",
       " 'first time ever came amazing experience still tell people awesome duck',\n",
       " 'server negligent needs made us feel unwelcome would suggest plac',\n",
       " 'service terrible though',\n",
       " 'place overpriced consistent boba really overpr',\n",
       " 'pack',\n",
       " 'love plac',\n",
       " 'say desserts yummi',\n",
       " 'food terr',\n",
       " 'seasonal fruit fresh white peach pure',\n",
       " 'kept getting worse worse officially don',\n",
       " 'place honestly blown',\n",
       " 'definitely would eat',\n",
       " 'waste money',\n",
       " 'love put food nice plastic containers opposed cramming little paper takeout box',\n",
       " 'cr pe delicate thin moist',\n",
       " 'awful servic',\n",
       " 'ever go',\n",
       " 'food quality horr',\n",
       " 'price think place would much rather gon',\n",
       " 'service fair best',\n",
       " 'love sushi found kabuki priced hip servic',\n",
       " 'favor stay away dish',\n",
       " 'poor servic',\n",
       " 'one table thought food average worth wait',\n",
       " 'best service food ever maria server good friendly made day',\n",
       " 'excel',\n",
       " 'paid bill tip felt server terrible job',\n",
       " 'lunch great experi',\n",
       " 'never bland food surprised considering article read focused much spices flavor',\n",
       " 'food way overpriced portions fucking smal',\n",
       " 'recently tried caballero back every week sinc',\n",
       " 'bucks head really expect better food',\n",
       " 'food came good pac',\n",
       " 'ate twice last visit especially enjoyed salmon salad',\n",
       " 'back',\n",
       " 'could believe dirty oyst',\n",
       " 'place deserves star',\n",
       " 'would recommend plac',\n",
       " 'fact going round stars awesom',\n",
       " 'disbelief dish qualified worst version foods ever tast',\n",
       " 'bad day low tolerance rude customer service people job nice polite wash dishes otherwis',\n",
       " 'potatoes great biscuit',\n",
       " 'probably would go',\n",
       " 'flavorful perfect amount heat',\n",
       " 'price reasonable service great',\n",
       " 'wife hated meal coconut shrimp friends really enjoy meals eith',\n",
       " 'fella got huevos rancheros look app',\n",
       " 'went happy hour great list win',\n",
       " 'may say buffet pricey think get pay place getting quite lot',\n",
       " 'probably coming back',\n",
       " 'worst food servic',\n",
       " 'place pretty good nice little vibe restaur',\n",
       " 'talk great customer service course back',\n",
       " 'hot dishes hot cold dishes close room temp watched staff prepare food bare hands gloves everything deep fried oil',\n",
       " 'love fries bean',\n",
       " 'always pleasure d',\n",
       " 'plethora salads sandwiches everything tried gets seal approv',\n",
       " 'place awesome want something light healthy summ',\n",
       " 'sushi strip place go',\n",
       " 'service great even manager came helped t',\n",
       " 'feel dining room college cooking course high class dining service slow best',\n",
       " 'started review two stars editing give on',\n",
       " 'worst sushi ever eat besides costco',\n",
       " 'excellent restaurant highlighted great service unique menu beautiful set',\n",
       " 'boyfriend sat bar completely delightful experi',\n",
       " 'weird vibe own',\n",
       " 'hardly meat',\n",
       " 'better bagels grocery stor',\n",
       " 'go place gyro',\n",
       " 'love owner chef one authentic japanese cool dud',\n",
       " 'burgers good pizza used amazing doughy flavorless',\n",
       " 'found six inch long piece wire salsa',\n",
       " 'service terrible food mediocr',\n",
       " 'definately enjoy',\n",
       " 'ordered albondigas soup warm tasted like tomato soup frozen meatbal',\n",
       " 'three different occasions asked well done medium well three times got bloodiest piece meat pl',\n",
       " 'two bites refused eat anymor',\n",
       " 'service extremely slow',\n",
       " 'minutes wait got t',\n",
       " 'seriously killer hot chai latt',\n",
       " 'allergy warnings menu waitress absolutely clue meals contain peanut',\n",
       " 'boyfriend tried mediterranean chicken salad fell lov',\n",
       " 'rotating beers tap also highlight plac',\n",
       " 'pricing bit concern mellow mushroom',\n",
       " 'worst thai ev',\n",
       " 'stay vegas must get breakfast least',\n",
       " 'want first say server great perfect servic',\n",
       " 'pizza selections good',\n",
       " 'strawberry tea good',\n",
       " 'highly unprofessional rude loyal patron',\n",
       " 'overall great experi',\n",
       " 'spend money elsewher',\n",
       " 'regular toasted bread equally satisfying occasional pats butter mmmm',\n",
       " 'buffet bellagio far anticip',\n",
       " 'drinks weak peopl',\n",
       " 'order correct',\n",
       " 'also feel like chips bought made hous',\n",
       " 'disappointing dinner went elsewhere dessert',\n",
       " 'chips sals amaz',\n",
       " 'return',\n",
       " 'new fav vegas buffet spot',\n",
       " 'seriously cannot believe owner many unexperienced employees running around like chickens heads cut',\n",
       " 'sad',\n",
       " 'felt insulted disrespected could talk judge another human lik',\n",
       " 'call steakhouse properly cook steak understand',\n",
       " 'impressed concept food',\n",
       " 'thing crazy guacamole like pur ',\n",
       " 'really nothing postinos hope experience bett',\n",
       " 'got food poisoning buffet',\n",
       " 'brought fresh batch fries thinking yay something warm',\n",
       " 'hilarious yummy christmas eve dinner remember biggest fail entire trip u',\n",
       " 'needless say going back anytime soon',\n",
       " 'place disgust',\n",
       " 'every time eat see caring teamwork professional degre',\n",
       " 'ri style calamari jok',\n",
       " 'however much garlic fondue barely ed',\n",
       " 'could barely stomach meal complain business lunch',\n",
       " 'bad lost heart finish',\n",
       " 'also took forever bring us check ask',\n",
       " 'ones make scene restaurants get definitely lost love on',\n",
       " 'disappointing experi',\n",
       " 'food par denny say good',\n",
       " 'want wait mediocre food downright terrible service plac',\n",
       " 'waaaaaayyyyyyyyyy rated say',\n",
       " 'going back',\n",
       " 'place fairly clean food simply worth',\n",
       " 'place lacked styl',\n",
       " 'sangria half glass wine full ridicul',\n",
       " 'bother com',\n",
       " 'meat pretty dry sliced brisket pulled pork',\n",
       " 'building seems pretty neat bathroom pretty trippy eat',\n",
       " 'equally aw',\n",
       " 'probably hurry go back',\n",
       " 'slow seating even reserv',\n",
       " 'good stretch imagin',\n",
       " 'cashew cream sauce bland vegetables undercook',\n",
       " 'chipolte ranch dipping sause tasteless seemed thin watered heat',\n",
       " 'bit sweet really spicy enough lacked flavor',\n",
       " 'disappoint',\n",
       " 'place horrible way overpr',\n",
       " 'maybe vegetarian fare twice thought average best',\n",
       " 'busy know',\n",
       " 'tables outside also dirty lot time workers always friendly helpful menu',\n",
       " 'ambiance feel like buffet setting douchey indoor garden tea biscuit',\n",
       " 'con spotty servic',\n",
       " 'fries hot neither burg',\n",
       " 'came back cold',\n",
       " 'food came disappointment ensu',\n",
       " 'real disappointment wait',\n",
       " 'husband said rude even apologize bad food anyth',\n",
       " 'reason eat would fill night binge drinking get carbs stomach',\n",
       " 'insults profound deuchebaggery go outside smoke break serving solidifi',\n",
       " 'someone orders two tacos think may part customer service ask combo ala cart',\n",
       " 'quite disappointed although blame needs placed door',\n",
       " 'rave reviews wait eat disappoint',\n",
       " 'del taco pretty nasty avoided poss',\n",
       " 'hard make decent hamburg',\n",
       " 'like',\n",
       " 'hell go back',\n",
       " 'gotten much better service pizza place next door services received restaur',\n",
       " 'know big deal place back ya',\n",
       " 'immediately said wanted talk manager want talk guy shots fireball behind bar',\n",
       " 'ambiance much bett',\n",
       " 'unfortunately set us disapppointment entre',\n",
       " 'food good',\n",
       " 'servers suck wait correction server heimer suck',\n",
       " 'happened next pretty put',\n",
       " 'bad cause know family owned really wanted like plac',\n",
       " 'overpriced get',\n",
       " 'vomited bathroom mid lunch',\n",
       " 'kept looking time soon become minutes yet still food',\n",
       " 'places eat circumstances would ever return tops list',\n",
       " 'started tuna sashimi brownish color obviously fresh',\n",
       " 'food averag',\n",
       " 'sure beat nachos movies would expect little bit coming restaur',\n",
       " 'ha long bay bit flop',\n",
       " 'problem charge sandwich bigger subway sub offers better amount veget',\n",
       " 'shrimp unwrapped live mile brushfire literally ice cold',\n",
       " 'lacked flavor seemed undercooked dri',\n",
       " 'really impressive place clos',\n",
       " 'would avoid place staying mirag',\n",
       " 'refried beans came meal dried crusty food bland',\n",
       " 'spend money time place els',\n",
       " 'lady table next us found live green caterpillar salad',\n",
       " 'presentation food aw',\n",
       " 'tell disappoint',\n",
       " 'think food flavor texture lack',\n",
       " 'appetite instantly gon',\n",
       " 'overall impressed would go back',\n",
       " 'whole experience underwhelming think go ninja sushi next tim',\n",
       " 'wasted enough life poured salt wound drawing time took bring check']"
      ]
     },
     "execution_count": 243,
     "metadata": {},
     "output_type": "execute_result"
    }
   ],
   "source": [
    "#create & apply the function to apply for the whole model\n",
    "corpus =[]\n",
    "for i in range(len(df)):\n",
    "    s = re.sub('[^a-zA-Z]',\" \",df['Review'][i])\n",
    "    s= s.lower()\n",
    "    s=s.split()\n",
    "    s=[word for word in s if word not in stopwords.words('english')]\n",
    "    s=' '.join(s)\n",
    "    s=ps.stem(s)\n",
    "    corpus.append(s)\n",
    "corpus"
   ]
  },
  {
   "cell_type": "code",
   "execution_count": 248,
   "id": "7c8f3df1",
   "metadata": {},
   "outputs": [],
   "source": [
    "cv=CountVectorizer()"
   ]
  },
  {
   "cell_type": "code",
   "execution_count": 249,
   "id": "709c984e",
   "metadata": {},
   "outputs": [
    {
     "data": {
      "text/plain": [
       "(1000, 1994)"
      ]
     },
     "execution_count": 249,
     "metadata": {},
     "output_type": "execute_result"
    }
   ],
   "source": [
    "#shape the features\n",
    "cv.fit_transform(corpus).toarray().shape"
   ]
  },
  {
   "cell_type": "code",
   "execution_count": 250,
   "id": "3e0b9e54",
   "metadata": {},
   "outputs": [
    {
     "data": {
      "text/plain": [
       "array([[0, 0, 0, ..., 0, 0, 0],\n",
       "       [0, 0, 0, ..., 0, 0, 0],\n",
       "       [0, 0, 0, ..., 0, 0, 0],\n",
       "       ...,\n",
       "       [0, 0, 0, ..., 0, 0, 0],\n",
       "       [0, 0, 0, ..., 0, 0, 0],\n",
       "       [0, 0, 0, ..., 0, 0, 0]])"
      ]
     },
     "execution_count": 250,
     "metadata": {},
     "output_type": "execute_result"
    }
   ],
   "source": [
    "X = cv.fit_transform(corpus).toarray()\n",
    "X"
   ]
  },
  {
   "cell_type": "code",
   "execution_count": 252,
   "id": "8428b29c",
   "metadata": {},
   "outputs": [
    {
     "data": {
      "text/plain": [
       "0      1\n",
       "1      0\n",
       "2      0\n",
       "3      1\n",
       "4      1\n",
       "      ..\n",
       "995    0\n",
       "996    0\n",
       "997    0\n",
       "998    0\n",
       "999    0\n",
       "Name: Liked, Length: 1000, dtype: int64"
      ]
     },
     "execution_count": 252,
     "metadata": {},
     "output_type": "execute_result"
    }
   ],
   "source": [
    "y = df['Liked']\n",
    "y"
   ]
  },
  {
   "cell_type": "code",
   "execution_count": 253,
   "id": "c8c75905",
   "metadata": {},
   "outputs": [],
   "source": [
    "from sklearn.model_selection import train_test_split"
   ]
  },
  {
   "cell_type": "code",
   "execution_count": 254,
   "id": "7051c1ec",
   "metadata": {},
   "outputs": [],
   "source": [
    "X_train, X_test, y_train, y_test = train_test_split(X, y, test_size=0.33, random_state=42)"
   ]
  },
  {
   "cell_type": "code",
   "execution_count": 255,
   "id": "81f585ef",
   "metadata": {},
   "outputs": [
    {
     "data": {
      "text/plain": [
       "(670, 1994)"
      ]
     },
     "execution_count": 255,
     "metadata": {},
     "output_type": "execute_result"
    }
   ],
   "source": [
    "X_train.shape"
   ]
  },
  {
   "cell_type": "code",
   "execution_count": 256,
   "id": "e5ba5afa",
   "metadata": {
    "scrolled": true
   },
   "outputs": [
    {
     "data": {
      "text/plain": [
       "(330, 1994)"
      ]
     },
     "execution_count": 256,
     "metadata": {},
     "output_type": "execute_result"
    }
   ],
   "source": [
    "X_test.shape"
   ]
  },
  {
   "cell_type": "code",
   "execution_count": null,
   "id": "cbbc319b",
   "metadata": {},
   "outputs": [],
   "source": []
  },
  {
   "cell_type": "code",
   "execution_count": null,
   "id": "7c1cbc89",
   "metadata": {},
   "outputs": [],
   "source": []
  },
  {
   "cell_type": "markdown",
   "id": "b2dd8b5b",
   "metadata": {},
   "source": [
    "#### Model Training & Building\n"
   ]
  },
  {
   "cell_type": "code",
   "execution_count": 265,
   "id": "45691cc7",
   "metadata": {
    "scrolled": true
   },
   "outputs": [],
   "source": [
    "#choosing the model MultinomialNB from sklearn because its suitable with multi dimension data\n",
    "from sklearn.naive_bayes import MultinomialNB"
   ]
  },
  {
   "cell_type": "code",
   "execution_count": 266,
   "id": "eb60d3ca",
   "metadata": {},
   "outputs": [],
   "source": [
    "clf = MultinomialNB()"
   ]
  },
  {
   "cell_type": "code",
   "execution_count": 267,
   "id": "b5ba9267",
   "metadata": {},
   "outputs": [
    {
     "data": {
      "text/plain": [
       "MultinomialNB()"
      ]
     },
     "execution_count": 267,
     "metadata": {},
     "output_type": "execute_result"
    }
   ],
   "source": [
    "clf.fit(X_train, y_train)"
   ]
  },
  {
   "cell_type": "code",
   "execution_count": null,
   "id": "38d77ba5",
   "metadata": {},
   "outputs": [],
   "source": []
  },
  {
   "cell_type": "markdown",
   "id": "031b2822",
   "metadata": {},
   "source": [
    "#### Model Prediction"
   ]
  },
  {
   "cell_type": "code",
   "execution_count": 268,
   "id": "908b599a",
   "metadata": {},
   "outputs": [
    {
     "data": {
      "text/plain": [
       "array([0, 1, 1, 1, 1, 1, 0, 1, 0, 1, 0, 0, 1, 1, 1, 1, 0, 0, 1, 1, 1, 1,\n",
       "       1, 0, 0, 0, 0, 0, 1, 0, 0, 1, 0, 1, 0, 1, 1, 0, 1, 0, 1, 0, 1, 0,\n",
       "       1, 0, 0, 0, 1, 0, 0, 1, 1, 1, 0, 0, 0, 1, 0, 0, 0, 1, 1, 1, 0, 0,\n",
       "       1, 1, 0, 1, 1, 0, 1, 1, 1, 0, 0, 0, 1, 0, 0, 1, 0, 1, 1, 1, 0, 1,\n",
       "       1, 0, 1, 0, 1, 1, 0, 1, 1, 1, 0, 0, 1, 1, 1, 1, 1, 1, 1, 0, 0, 0,\n",
       "       0, 1, 1, 0, 0, 1, 1, 0, 0, 1, 1, 1, 0, 1, 1, 0, 1, 1, 0, 1, 0, 0,\n",
       "       1, 0, 1, 1, 0, 1, 1, 0, 0, 0, 1, 1, 0, 0, 0, 0, 1, 0, 0, 1, 0, 1,\n",
       "       0, 1, 1, 1, 0, 0, 1, 1, 0, 0, 1, 1, 0, 1, 1, 1, 1, 1, 0, 0, 1, 0,\n",
       "       1, 0, 0, 0, 1, 0, 1, 1, 1, 1, 1, 0, 0, 1, 0, 1, 1, 1, 0, 1, 1, 1,\n",
       "       0, 1, 0, 1, 0, 0, 1, 0, 1, 1, 1, 0, 1, 1, 0, 0, 0, 1, 1, 0, 1, 0,\n",
       "       0, 1, 0, 1, 1, 1, 1, 0, 1, 0, 0, 1, 1, 1, 1, 0, 0, 0, 1, 0, 1, 1,\n",
       "       1, 0, 0, 1, 0, 1, 0, 1, 0, 0, 1, 0, 1, 1, 1, 1, 1, 1, 1, 1, 0, 0,\n",
       "       1, 1, 0, 0, 1, 1, 0, 0, 0, 1, 1, 1, 0, 1, 0, 0, 0, 1, 1, 0, 0, 0,\n",
       "       0, 1, 0, 0, 1, 1, 0, 1, 0, 1, 0, 1, 1, 1, 0, 0, 1, 1, 0, 1, 1, 1,\n",
       "       1, 1, 1, 1, 1, 0, 0, 1, 1, 0, 1, 1, 0, 1, 0, 0, 0, 0, 1, 1, 1, 0])"
      ]
     },
     "execution_count": 268,
     "metadata": {},
     "output_type": "execute_result"
    }
   ],
   "source": [
    "y_pred = clf.predict(X_test)\n",
    "y_pred"
   ]
  },
  {
   "cell_type": "code",
   "execution_count": 270,
   "id": "63649acc",
   "metadata": {},
   "outputs": [
    {
     "data": {
      "text/plain": [
       "array([1, 1, 1, 1, 1, 1, 0, 1, 0, 1, 0, 0, 0, 0, 0, 1, 1, 0, 0, 1, 1, 1,\n",
       "       0, 1, 0, 0, 1, 0, 0, 0, 1, 1, 0, 1, 0, 1, 1, 0, 1, 0, 0, 1, 1, 0,\n",
       "       1, 1, 0, 0, 1, 0, 0, 0, 0, 1, 1, 1, 0, 1, 0, 0, 0, 1, 1, 1, 1, 1,\n",
       "       1, 1, 1, 0, 1, 1, 1, 0, 1, 0, 1, 0, 0, 0, 0, 1, 0, 1, 1, 0, 0, 1,\n",
       "       1, 1, 1, 1, 0, 0, 1, 1, 1, 1, 1, 0, 1, 0, 0, 1, 1, 0, 0, 0, 0, 0,\n",
       "       1, 1, 0, 0, 0, 1, 1, 0, 0, 1, 0, 1, 0, 1, 1, 1, 1, 1, 1, 0, 0, 0,\n",
       "       1, 0, 1, 1, 0, 1, 1, 0, 0, 1, 1, 0, 0, 0, 0, 0, 1, 0, 0, 1, 0, 1,\n",
       "       0, 1, 1, 0, 0, 0, 1, 1, 0, 0, 1, 1, 0, 1, 1, 1, 1, 1, 0, 0, 1, 0,\n",
       "       1, 0, 0, 0, 1, 0, 1, 0, 0, 1, 1, 0, 0, 1, 0, 0, 1, 1, 0, 1, 1, 0,\n",
       "       0, 1, 0, 1, 0, 0, 1, 0, 1, 0, 0, 0, 1, 0, 0, 0, 0, 1, 1, 0, 1, 1,\n",
       "       0, 1, 0, 1, 1, 0, 0, 0, 0, 0, 0, 0, 1, 0, 0, 0, 0, 0, 0, 0, 1, 1,\n",
       "       1, 1, 0, 1, 0, 1, 0, 0, 0, 0, 1, 1, 1, 1, 1, 0, 1, 0, 0, 1, 1, 0,\n",
       "       1, 1, 0, 0, 1, 1, 1, 0, 0, 1, 0, 1, 0, 1, 0, 0, 0, 1, 1, 0, 0, 0,\n",
       "       1, 1, 1, 0, 0, 1, 0, 1, 1, 1, 0, 0, 0, 1, 0, 0, 0, 0, 0, 0, 1, 0,\n",
       "       0, 1, 0, 1, 0, 0, 1, 0, 0, 1, 1, 1, 0, 0, 0, 0, 0, 0, 1, 1, 0, 0])"
      ]
     },
     "execution_count": 270,
     "metadata": {},
     "output_type": "execute_result"
    }
   ],
   "source": [
    "y_test.values"
   ]
  },
  {
   "cell_type": "code",
   "execution_count": null,
   "id": "69357ebc",
   "metadata": {},
   "outputs": [],
   "source": []
  },
  {
   "cell_type": "markdown",
   "id": "3d2fc6a8",
   "metadata": {},
   "source": [
    "### Model Evaluation"
   ]
  },
  {
   "cell_type": "code",
   "execution_count": 271,
   "id": "ccc16593",
   "metadata": {
    "scrolled": true
   },
   "outputs": [],
   "source": [
    "from sklearn.metrics import confusion_matrix, accuracy_score, classification_report"
   ]
  },
  {
   "cell_type": "code",
   "execution_count": 272,
   "id": "63582443",
   "metadata": {},
   "outputs": [
    {
     "name": "stdout",
     "output_type": "stream",
     "text": [
      "0.7303030303030303\n"
     ]
    }
   ],
   "source": [
    "print (accuracy_score(y_test, y_pred))"
   ]
  },
  {
   "cell_type": "code",
   "execution_count": 273,
   "id": "260dec37",
   "metadata": {
    "scrolled": false
   },
   "outputs": [
    {
     "name": "stdout",
     "output_type": "stream",
     "text": [
      "              precision    recall  f1-score   support\n",
      "\n",
      "           0       0.78      0.67      0.72       173\n",
      "           1       0.69      0.80      0.74       157\n",
      "\n",
      "    accuracy                           0.73       330\n",
      "   macro avg       0.74      0.73      0.73       330\n",
      "weighted avg       0.74      0.73      0.73       330\n",
      "\n"
     ]
    }
   ],
   "source": [
    "print(classification_report(y_test, y_pred))"
   ]
  },
  {
   "cell_type": "code",
   "execution_count": null,
   "id": "2b9c8ea1",
   "metadata": {},
   "outputs": [],
   "source": []
  },
  {
   "cell_type": "markdown",
   "id": "fd7b0787",
   "metadata": {},
   "source": [
    "#### Model Training & Building GaussianNB"
   ]
  },
  {
   "cell_type": "code",
   "execution_count": 281,
   "id": "eafd828b",
   "metadata": {},
   "outputs": [],
   "source": [
    "#choosing the model MultinomialNB from sklearn because its suitable with multi dimension data\n",
    "from sklearn.naive_bayes import GaussianNB\n"
   ]
  },
  {
   "cell_type": "code",
   "execution_count": 282,
   "id": "8e06121c",
   "metadata": {},
   "outputs": [
    {
     "data": {
      "text/plain": [
       "GaussianNB()"
      ]
     },
     "execution_count": 282,
     "metadata": {},
     "output_type": "execute_result"
    }
   ],
   "source": [
    "clf = GaussianNB()\n",
    "clf.fit(X_train, y_train)"
   ]
  },
  {
   "cell_type": "markdown",
   "id": "d48facd3",
   "metadata": {},
   "source": [
    "#### Model Prediction"
   ]
  },
  {
   "cell_type": "code",
   "execution_count": 283,
   "id": "566b5c04",
   "metadata": {},
   "outputs": [
    {
     "data": {
      "text/plain": [
       "array([1, 1, 1, 1, 1, 1, 0, 1, 1, 1, 1, 0, 1, 1, 1, 1, 1, 0, 1, 1, 1, 1,\n",
       "       1, 0, 0, 0, 0, 0, 1, 1, 1, 1, 1, 1, 0, 1, 1, 0, 1, 0, 1, 1, 1, 0,\n",
       "       1, 1, 0, 0, 1, 0, 0, 1, 1, 1, 1, 0, 0, 1, 0, 1, 0, 1, 1, 1, 0, 1,\n",
       "       1, 1, 0, 1, 1, 0, 1, 1, 1, 0, 1, 0, 1, 0, 1, 1, 0, 1, 1, 1, 1, 1,\n",
       "       1, 1, 1, 1, 1, 1, 1, 1, 1, 1, 1, 1, 1, 1, 1, 1, 1, 1, 0, 1, 0, 1,\n",
       "       1, 1, 1, 0, 0, 1, 1, 0, 0, 1, 1, 1, 0, 1, 1, 0, 1, 1, 1, 1, 0, 1,\n",
       "       1, 1, 1, 1, 1, 1, 1, 0, 0, 1, 1, 1, 1, 0, 1, 1, 1, 0, 0, 1, 0, 1,\n",
       "       0, 1, 1, 1, 0, 1, 1, 1, 0, 0, 1, 0, 1, 1, 1, 1, 1, 1, 0, 1, 1, 0,\n",
       "       0, 1, 0, 1, 1, 0, 1, 1, 1, 1, 1, 1, 1, 1, 0, 1, 1, 1, 1, 1, 1, 1,\n",
       "       0, 1, 1, 1, 0, 0, 1, 0, 1, 1, 1, 1, 1, 0, 0, 0, 1, 1, 1, 0, 1, 0,\n",
       "       0, 1, 1, 1, 1, 1, 1, 0, 1, 0, 1, 1, 1, 1, 0, 1, 0, 0, 1, 0, 1, 1,\n",
       "       1, 0, 1, 1, 0, 1, 0, 1, 0, 0, 1, 0, 1, 1, 1, 1, 1, 1, 1, 1, 1, 0,\n",
       "       1, 1, 0, 1, 0, 1, 1, 0, 0, 1, 1, 1, 0, 1, 0, 0, 1, 1, 1, 0, 0, 0,\n",
       "       0, 1, 0, 0, 1, 0, 0, 1, 1, 1, 0, 1, 1, 1, 0, 0, 1, 1, 0, 1, 1, 1,\n",
       "       1, 1, 1, 1, 1, 1, 0, 1, 1, 0, 1, 1, 1, 1, 0, 1, 0, 0, 1, 1, 1, 0])"
      ]
     },
     "execution_count": 283,
     "metadata": {},
     "output_type": "execute_result"
    }
   ],
   "source": [
    "y_pred = clf.predict(X_test)\n",
    "y_pred"
   ]
  },
  {
   "cell_type": "code",
   "execution_count": 284,
   "id": "0fc23ba3",
   "metadata": {},
   "outputs": [
    {
     "data": {
      "text/plain": [
       "array([1, 1, 1, 1, 1, 1, 0, 1, 0, 1, 0, 0, 0, 0, 0, 1, 1, 0, 0, 1, 1, 1,\n",
       "       0, 1, 0, 0, 1, 0, 0, 0, 1, 1, 0, 1, 0, 1, 1, 0, 1, 0, 0, 1, 1, 0,\n",
       "       1, 1, 0, 0, 1, 0, 0, 0, 0, 1, 1, 1, 0, 1, 0, 0, 0, 1, 1, 1, 1, 1,\n",
       "       1, 1, 1, 0, 1, 1, 1, 0, 1, 0, 1, 0, 0, 0, 0, 1, 0, 1, 1, 0, 0, 1,\n",
       "       1, 1, 1, 1, 0, 0, 1, 1, 1, 1, 1, 0, 1, 0, 0, 1, 1, 0, 0, 0, 0, 0,\n",
       "       1, 1, 0, 0, 0, 1, 1, 0, 0, 1, 0, 1, 0, 1, 1, 1, 1, 1, 1, 0, 0, 0,\n",
       "       1, 0, 1, 1, 0, 1, 1, 0, 0, 1, 1, 0, 0, 0, 0, 0, 1, 0, 0, 1, 0, 1,\n",
       "       0, 1, 1, 0, 0, 0, 1, 1, 0, 0, 1, 1, 0, 1, 1, 1, 1, 1, 0, 0, 1, 0,\n",
       "       1, 0, 0, 0, 1, 0, 1, 0, 0, 1, 1, 0, 0, 1, 0, 0, 1, 1, 0, 1, 1, 0,\n",
       "       0, 1, 0, 1, 0, 0, 1, 0, 1, 0, 0, 0, 1, 0, 0, 0, 0, 1, 1, 0, 1, 1,\n",
       "       0, 1, 0, 1, 1, 0, 0, 0, 0, 0, 0, 0, 1, 0, 0, 0, 0, 0, 0, 0, 1, 1,\n",
       "       1, 1, 0, 1, 0, 1, 0, 0, 0, 0, 1, 1, 1, 1, 1, 0, 1, 0, 0, 1, 1, 0,\n",
       "       1, 1, 0, 0, 1, 1, 1, 0, 0, 1, 0, 1, 0, 1, 0, 0, 0, 1, 1, 0, 0, 0,\n",
       "       1, 1, 1, 0, 0, 1, 0, 1, 1, 1, 0, 0, 0, 1, 0, 0, 0, 0, 0, 0, 1, 0,\n",
       "       0, 1, 0, 1, 0, 0, 1, 0, 0, 1, 1, 1, 0, 0, 0, 0, 0, 0, 1, 1, 0, 0])"
      ]
     },
     "execution_count": 284,
     "metadata": {},
     "output_type": "execute_result"
    }
   ],
   "source": [
    "y_test.values"
   ]
  },
  {
   "cell_type": "markdown",
   "id": "cfc1a420",
   "metadata": {},
   "source": [
    "### Model Evaluation"
   ]
  },
  {
   "cell_type": "code",
   "execution_count": 285,
   "id": "0ed0eeb8",
   "metadata": {},
   "outputs": [],
   "source": [
    "from sklearn.metrics import confusion_matrix, accuracy_score, classification_report"
   ]
  },
  {
   "cell_type": "code",
   "execution_count": 286,
   "id": "d0329607",
   "metadata": {},
   "outputs": [
    {
     "name": "stdout",
     "output_type": "stream",
     "text": [
      "0.6727272727272727\n"
     ]
    }
   ],
   "source": [
    "print (accuracy_score(y_test, y_pred))"
   ]
  },
  {
   "cell_type": "code",
   "execution_count": 280,
   "id": "acf3c37c",
   "metadata": {},
   "outputs": [
    {
     "name": "stdout",
     "output_type": "stream",
     "text": [
      "              precision    recall  f1-score   support\n",
      "\n",
      "           0       0.78      0.67      0.72       173\n",
      "           1       0.69      0.80      0.74       157\n",
      "\n",
      "    accuracy                           0.73       330\n",
      "   macro avg       0.74      0.73      0.73       330\n",
      "weighted avg       0.74      0.73      0.73       330\n",
      "\n"
     ]
    }
   ],
   "source": [
    "print(classification_report(y_test, y_pred))"
   ]
  },
  {
   "cell_type": "code",
   "execution_count": null,
   "id": "95bd4893",
   "metadata": {},
   "outputs": [],
   "source": []
  },
  {
   "cell_type": "markdown",
   "id": "cce8bf1c",
   "metadata": {},
   "source": [
    "#### Model Training & Building MLPClassifier"
   ]
  },
  {
   "cell_type": "code",
   "execution_count": 288,
   "id": "2cd89c5d",
   "metadata": {},
   "outputs": [
    {
     "name": "stdout",
     "output_type": "stream",
     "text": [
      "Accuracy of MLP Classifier: 0.7454545454545455\n",
      "Accuracy of Gaussian Naive Bayes: 0.6727272727272727\n"
     ]
    }
   ],
   "source": [
    "from sklearn.neural_network import MLPClassifier\n",
    "from sklearn.metrics import accuracy_score\n",
    "\n",
    "# Create an instance of the MLPClassifier\n",
    "mlp_classifier = MLPClassifier(hidden_layer_sizes=(100, 50), activation='relu', max_iter=1000, random_state=42)\n",
    "\n",
    "# Fit the MLP model to the training data\n",
    "mlp_classifier.fit(X_train, y_train)\n",
    "\n",
    "# Predict with the MLP model\n",
    "y_pred_mlp = mlp_classifier.predict(X_test)\n",
    "\n",
    "# Calculate accuracy for MLP model\n",
    "accuracy_mlp = accuracy_score(y_test.values, y_pred_mlp)\n",
    "\n",
    "# Import GaussianNB from sklearn\n",
    "from sklearn.naive_bayes import GaussianNB\n",
    "\n",
    "# Create an instance of GaussianNB\n",
    "clf = GaussianNB()\n",
    "\n",
    "# Fit the Gaussian Naive Bayes model to the training data\n",
    "clf.fit(X_train, y_train)\n",
    "\n",
    "# Predict with the Gaussian Naive Bayes model\n",
    "y_pred_gnb = clf.predict(X_test)\n",
    "\n",
    "# Calculate accuracy for Gaussian Naive Bayes model\n",
    "accuracy_gnb = accuracy_score(y_test.values, y_pred_gnb)\n",
    "\n",
    "print(\"Accuracy of MLP Classifier:\", accuracy_mlp)\n",
    "print(\"Accuracy of Gaussian Naive Bayes:\", accuracy_gnb)\n"
   ]
  },
  {
   "cell_type": "markdown",
   "id": "47af7c3f",
   "metadata": {},
   "source": [
    "In this code snippet:\n",
    "\n",
    "We import CountVectorizer from the sklearn.feature_extraction.text module.\n",
    "We create a CountVectorizer object named cv.\n",
    "We use cv.fit_transform() to fit and transform the sample text s. Note that we provide the text as a list with one element, as fit_transform expects a list-like object containing multiple text documents.\n",
    "Finally, we use toarray() to convert the result into a dense NumPy array.\n",
    "Make sure to adjust the text data you want to analyze and provide it in the form of a list-like object to the fit_transform method."
   ]
  },
  {
   "cell_type": "code",
   "execution_count": 293,
   "id": "091b6676",
   "metadata": {},
   "outputs": [
    {
     "ename": "ModuleNotFoundError",
     "evalue": "No module named 'tensorflow'",
     "output_type": "error",
     "traceback": [
      "\u001b[0;31m---------------------------------------------------------------------------\u001b[0m",
      "\u001b[0;31mModuleNotFoundError\u001b[0m                       Traceback (most recent call last)",
      "\u001b[0;32m/var/folders/l_/bhn_1pw10rsc7mz4xy_w53y00000gn/T/ipykernel_28996/2609332992.py\u001b[0m in \u001b[0;36m<module>\u001b[0;34m\u001b[0m\n\u001b[0;32m----> 1\u001b[0;31m \u001b[0;32mimport\u001b[0m \u001b[0mtensorflow\u001b[0m \u001b[0;32mas\u001b[0m \u001b[0mtf\u001b[0m\u001b[0;34m\u001b[0m\u001b[0;34m\u001b[0m\u001b[0m\n\u001b[0m\u001b[1;32m      2\u001b[0m \u001b[0;32mfrom\u001b[0m \u001b[0mtensorflow\u001b[0m\u001b[0;34m.\u001b[0m\u001b[0mkeras\u001b[0m\u001b[0;34m.\u001b[0m\u001b[0mmodels\u001b[0m \u001b[0;32mimport\u001b[0m \u001b[0mSequential\u001b[0m\u001b[0;34m\u001b[0m\u001b[0;34m\u001b[0m\u001b[0m\n\u001b[1;32m      3\u001b[0m \u001b[0;32mfrom\u001b[0m \u001b[0mtensorflow\u001b[0m\u001b[0;34m.\u001b[0m\u001b[0mkeras\u001b[0m\u001b[0;34m.\u001b[0m\u001b[0mlayers\u001b[0m \u001b[0;32mimport\u001b[0m \u001b[0mEmbedding\u001b[0m\u001b[0;34m,\u001b[0m \u001b[0mLSTM\u001b[0m\u001b[0;34m,\u001b[0m \u001b[0mDense\u001b[0m\u001b[0;34m\u001b[0m\u001b[0;34m\u001b[0m\u001b[0m\n\u001b[1;32m      4\u001b[0m \u001b[0;32mfrom\u001b[0m \u001b[0mtensorflow\u001b[0m\u001b[0;34m.\u001b[0m\u001b[0mkeras\u001b[0m\u001b[0;34m.\u001b[0m\u001b[0mpreprocessing\u001b[0m\u001b[0;34m.\u001b[0m\u001b[0mtext\u001b[0m \u001b[0;32mimport\u001b[0m \u001b[0mTokenizer\u001b[0m\u001b[0;34m\u001b[0m\u001b[0;34m\u001b[0m\u001b[0m\n\u001b[1;32m      5\u001b[0m \u001b[0;32mfrom\u001b[0m \u001b[0mtensorflow\u001b[0m\u001b[0;34m.\u001b[0m\u001b[0mkeras\u001b[0m\u001b[0;34m.\u001b[0m\u001b[0mpreprocessing\u001b[0m\u001b[0;34m.\u001b[0m\u001b[0msequence\u001b[0m \u001b[0;32mimport\u001b[0m \u001b[0mpad_sequences\u001b[0m\u001b[0;34m\u001b[0m\u001b[0;34m\u001b[0m\u001b[0m\n",
      "\u001b[0;31mModuleNotFoundError\u001b[0m: No module named 'tensorflow'"
     ]
    }
   ],
   "source": [
    "import tensorflow as tf\n",
    "from tensorflow.keras.models import Sequential\n",
    "from tensorflow.keras.layers import Embedding, LSTM, Dense\n",
    "from tensorflow.keras.preprocessing.text import Tokenizer\n",
    "from tensorflow.keras.preprocessing.sequence import pad_sequences\n",
    "\n",
    "# Assuming you have a list of text reviews in a variable called 'reviews' and corresponding labels in 'labels'\n",
    "\n",
    "# Tokenize the text data\n",
    "tokenizer = Tokenizer()\n",
    "tokenizer.fit_on_texts(reviews)\n",
    "vocab_size = len(tokenizer.word_index) + 1\n",
    "\n",
    "# Convert text data to sequences\n",
    "sequences = tokenizer.texts_to_sequences(reviews)\n",
    "\n",
    "# Pad sequences to have the same length\n",
    "max_sequence_length = max(len(seq) for seq in sequences)\n",
    "X = pad_sequences(sequences, maxlen=max_sequence_length)\n",
    "\n",
    "# Define the LSTM model\n",
    "model = Sequential()\n",
    "model.add(Embedding(input_dim=vocab_size, output_dim=100, input_length=max_sequence_length))\n",
    "model.add(LSTM(128))\n",
    "model.add(Dense(1, activation='sigmoid'))\n",
    "\n",
    "# Compile the model\n",
    "model.compile(optimizer='adam', loss='binary_crossentropy', metrics=['accuracy'])\n",
    "\n",
    "# Split data into training and testing sets\n",
    "from sklearn.model_selection import train_test_split\n",
    "X_train, X_test, y_train, y_test = train_test_split(X, labels, test_size=0.2, random_state=42)\n",
    "\n",
    "# Train the model\n",
    "model.fit(X_train, y_train, epochs=5, batch_size=64)\n",
    "\n",
    "# Evaluate the model\n",
    "loss, accuracy = model.evaluate(X_test, y_test)\n",
    "print(\"Test Accuracy:\", accuracy)\n"
   ]
  },
  {
   "cell_type": "code",
   "execution_count": null,
   "id": "73e8ff83",
   "metadata": {},
   "outputs": [],
   "source": []
  },
  {
   "cell_type": "code",
   "execution_count": null,
   "id": "dd6713b8",
   "metadata": {},
   "outputs": [],
   "source": []
  },
  {
   "cell_type": "code",
   "execution_count": null,
   "id": "b645415c",
   "metadata": {
    "scrolled": true
   },
   "outputs": [],
   "source": []
  },
  {
   "cell_type": "code",
   "execution_count": null,
   "id": "7863bc30",
   "metadata": {},
   "outputs": [],
   "source": []
  },
  {
   "cell_type": "code",
   "execution_count": null,
   "id": "efb57914",
   "metadata": {},
   "outputs": [],
   "source": []
  },
  {
   "cell_type": "code",
   "execution_count": null,
   "id": "c8d41ba0",
   "metadata": {},
   "outputs": [],
   "source": []
  },
  {
   "cell_type": "code",
   "execution_count": null,
   "id": "8f3445ff",
   "metadata": {},
   "outputs": [],
   "source": []
  },
  {
   "cell_type": "code",
   "execution_count": null,
   "id": "047219b0",
   "metadata": {},
   "outputs": [],
   "source": []
  },
  {
   "cell_type": "code",
   "execution_count": null,
   "id": "b86c8b6a",
   "metadata": {},
   "outputs": [],
   "source": []
  },
  {
   "cell_type": "code",
   "execution_count": null,
   "id": "4a5b01a2",
   "metadata": {},
   "outputs": [],
   "source": []
  },
  {
   "cell_type": "code",
   "execution_count": null,
   "id": "ed8891b5",
   "metadata": {},
   "outputs": [],
   "source": []
  },
  {
   "cell_type": "code",
   "execution_count": null,
   "id": "45612dc3",
   "metadata": {},
   "outputs": [],
   "source": []
  },
  {
   "cell_type": "code",
   "execution_count": null,
   "id": "1744886c",
   "metadata": {},
   "outputs": [],
   "source": []
  },
  {
   "cell_type": "code",
   "execution_count": null,
   "id": "60751b3a",
   "metadata": {},
   "outputs": [],
   "source": []
  },
  {
   "cell_type": "code",
   "execution_count": null,
   "id": "0b507fff",
   "metadata": {},
   "outputs": [],
   "source": []
  },
  {
   "cell_type": "markdown",
   "id": "008b26e8",
   "metadata": {},
   "source": []
  },
  {
   "cell_type": "code",
   "execution_count": null,
   "id": "36ec6568",
   "metadata": {},
   "outputs": [],
   "source": []
  },
  {
   "cell_type": "code",
   "execution_count": null,
   "id": "39ffd3a0",
   "metadata": {},
   "outputs": [],
   "source": []
  },
  {
   "cell_type": "code",
   "execution_count": null,
   "id": "59ef3a66",
   "metadata": {},
   "outputs": [],
   "source": []
  },
  {
   "cell_type": "code",
   "execution_count": null,
   "id": "ab7c5fc6",
   "metadata": {},
   "outputs": [],
   "source": []
  },
  {
   "cell_type": "code",
   "execution_count": null,
   "id": "0e701dae",
   "metadata": {},
   "outputs": [],
   "source": []
  },
  {
   "cell_type": "code",
   "execution_count": null,
   "id": "6608353a",
   "metadata": {},
   "outputs": [],
   "source": []
  },
  {
   "cell_type": "code",
   "execution_count": null,
   "id": "2733a60d",
   "metadata": {},
   "outputs": [],
   "source": []
  },
  {
   "cell_type": "code",
   "execution_count": null,
   "id": "b1bf33be",
   "metadata": {},
   "outputs": [],
   "source": []
  },
  {
   "cell_type": "code",
   "execution_count": null,
   "id": "4252dfe1",
   "metadata": {},
   "outputs": [],
   "source": []
  },
  {
   "cell_type": "code",
   "execution_count": null,
   "id": "dd729101",
   "metadata": {},
   "outputs": [],
   "source": []
  }
 ],
 "metadata": {
  "kernelspec": {
   "display_name": "Python 3 (ipykernel)",
   "language": "python",
   "name": "python3"
  },
  "language_info": {
   "codemirror_mode": {
    "name": "ipython",
    "version": 3
   },
   "file_extension": ".py",
   "mimetype": "text/x-python",
   "name": "python",
   "nbconvert_exporter": "python",
   "pygments_lexer": "ipython3",
   "version": "3.9.7"
  }
 },
 "nbformat": 4,
 "nbformat_minor": 5
}
